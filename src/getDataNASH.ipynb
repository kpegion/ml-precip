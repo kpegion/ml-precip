{
 "cells": [
  {
   "cell_type": "code",
   "execution_count": 1,
   "id": "bd75f5b2-72fc-473b-a827-6c2086243dc2",
   "metadata": {},
   "outputs": [],
   "source": [
    "import xarray as xr\n",
    "import matplotlib.pyplot as plt\n",
    "import pandas as pd\n",
    "import numpy as np\n",
    "import glob"
   ]
  },
  {
   "cell_type": "code",
   "execution_count": 2,
   "id": "6d82162b-b6c1-4339-a489-df490232241f",
   "metadata": {},
   "outputs": [],
   "source": [
    "def preprocZ(ds):\n",
    "     \n",
    "    # Not sure how to pass this to a preproc function\n",
    "    level=850\n",
    "    lons=[240,360]\n",
    "    lats=[0,60]\n",
    "    v='z'\n",
    "    \n",
    "    # Extract region and level\n",
    "    ds=ds.sel(isobaricInhPa=level,latitude=slice(lats[1],lats[0]),longitude=slice(lons[0],lons[1]))\n",
    "\n",
    "    # Create a new xarray dataset\n",
    "    ds_tmp=xr.DataArray(ds[v],\n",
    "                        coords={'lat':ds['latitude'].values,\n",
    "                                'lon': ds['longitude'].values},\n",
    "                            dims=['lat','lon'])   \n",
    "    ds_tmp=ds_tmp.to_dataset(name=v+str(int(level)))\n",
    "    \n",
    "    return ds_tmp"
   ]
  },
  {
   "cell_type": "code",
   "execution_count": 3,
   "id": "cdb21178-ff5d-40b4-9375-be10713e6481",
   "metadata": {},
   "outputs": [],
   "source": [
    "def preprocU(ds):\n",
    "     \n",
    "    # Not sure how to pass this to a preproc function\n",
    "    level=850\n",
    "    lons=[240,360]\n",
    "    lats=[0,60]\n",
    "    v='u'\n",
    "    \n",
    "    # Extract region and level\n",
    "    ds=ds.sel(isobaricInhPa=level,latitude=slice(lats[1],lats[0]),longitude=slice(lons[0],lons[1]))\n",
    "\n",
    "    # Create a new xarray dataset\n",
    "    ds_tmp=xr.DataArray(ds[v],\n",
    "                        coords={'lat':ds['latitude'].values,\n",
    "                                'lon': ds['longitude'].values},\n",
    "                            dims=['lat','lon'])   \n",
    "    ds_tmp=ds_tmp.to_dataset(name=v+str(int(level)))\n",
    "    \n",
    "    return ds_tmp"
   ]
  },
  {
   "cell_type": "code",
   "execution_count": 4,
   "id": "b09444d5-0bdd-4514-82b8-7381f827b7c2",
   "metadata": {},
   "outputs": [],
   "source": [
    "# Dates\n",
    "sdate='19970101'\n",
    "edate='20151231'\n",
    "\n",
    "# Years List\n",
    "yrs_list=np.arange(1997,2016)"
   ]
  },
  {
   "cell_type": "code",
   "execution_count": 5,
   "id": "bcf7c2e0-24dd-4411-b903-c82259c76520",
   "metadata": {},
   "outputs": [],
   "source": [
    "# Input\n",
    "path='/shared/working/rean/era-interim/daily/data/'\n",
    "fname='ei.oper.an.pl.regn128cm.'\n",
    "\n",
    "# Output\n",
    "out_path='/project/predictability/kpegion/wxregimes/era-interim/'\n",
    "ofname='erai.z850_u850_nash_1997-2015.nc'\n",
    "outfile=out_path+ofname"
   ]
  },
  {
   "cell_type": "code",
   "execution_count": 6,
   "id": "40268146-19a8-4f17-89a0-2c66fa9298a2",
   "metadata": {},
   "outputs": [
    {
     "name": "stdout",
     "output_type": "stream",
     "text": [
      "['/shared/working/rean/era-interim/daily/data/1979/ei.oper.an.pl.regn128cm.197901*', '/shared/working/rean/era-interim/daily/data/1980/ei.oper.an.pl.regn128cm.198001*', '/shared/working/rean/era-interim/daily/data/1981/ei.oper.an.pl.regn128cm.198101*', '/shared/working/rean/era-interim/daily/data/1982/ei.oper.an.pl.regn128cm.198201*', '/shared/working/rean/era-interim/daily/data/1983/ei.oper.an.pl.regn128cm.198301*', '/shared/working/rean/era-interim/daily/data/1984/ei.oper.an.pl.regn128cm.198401*', '/shared/working/rean/era-interim/daily/data/1985/ei.oper.an.pl.regn128cm.198501*', '/shared/working/rean/era-interim/daily/data/1986/ei.oper.an.pl.regn128cm.198601*', '/shared/working/rean/era-interim/daily/data/1987/ei.oper.an.pl.regn128cm.198701*', '/shared/working/rean/era-interim/daily/data/1988/ei.oper.an.pl.regn128cm.198801*', '/shared/working/rean/era-interim/daily/data/1989/ei.oper.an.pl.regn128cm.198901*', '/shared/working/rean/era-interim/daily/data/1990/ei.oper.an.pl.regn128cm.199001*', '/shared/working/rean/era-interim/daily/data/1991/ei.oper.an.pl.regn128cm.199101*', '/shared/working/rean/era-interim/daily/data/1992/ei.oper.an.pl.regn128cm.199201*', '/shared/working/rean/era-interim/daily/data/1993/ei.oper.an.pl.regn128cm.199301*', '/shared/working/rean/era-interim/daily/data/1994/ei.oper.an.pl.regn128cm.199401*', '/shared/working/rean/era-interim/daily/data/1995/ei.oper.an.pl.regn128cm.199501*', '/shared/working/rean/era-interim/daily/data/1996/ei.oper.an.pl.regn128cm.199601*', '/shared/working/rean/era-interim/daily/data/1997/ei.oper.an.pl.regn128cm.199701*', '/shared/working/rean/era-interim/daily/data/1998/ei.oper.an.pl.regn128cm.199801*', '/shared/working/rean/era-interim/daily/data/1999/ei.oper.an.pl.regn128cm.199901*', '/shared/working/rean/era-interim/daily/data/2000/ei.oper.an.pl.regn128cm.200001*', '/shared/working/rean/era-interim/daily/data/2001/ei.oper.an.pl.regn128cm.200101*', '/shared/working/rean/era-interim/daily/data/2002/ei.oper.an.pl.regn128cm.200201*', '/shared/working/rean/era-interim/daily/data/2003/ei.oper.an.pl.regn128cm.200301*', '/shared/working/rean/era-interim/daily/data/2004/ei.oper.an.pl.regn128cm.200401*', '/shared/working/rean/era-interim/daily/data/2005/ei.oper.an.pl.regn128cm.200501*', '/shared/working/rean/era-interim/daily/data/2006/ei.oper.an.pl.regn128cm.200601*', '/shared/working/rean/era-interim/daily/data/2007/ei.oper.an.pl.regn128cm.200701*', '/shared/working/rean/era-interim/daily/data/2008/ei.oper.an.pl.regn128cm.200801*', '/shared/working/rean/era-interim/daily/data/2009/ei.oper.an.pl.regn128cm.200901*', '/shared/working/rean/era-interim/daily/data/2010/ei.oper.an.pl.regn128cm.201001*', '/shared/working/rean/era-interim/daily/data/2011/ei.oper.an.pl.regn128cm.201101*', '/shared/working/rean/era-interim/daily/data/2012/ei.oper.an.pl.regn128cm.201201*', '/shared/working/rean/era-interim/daily/data/2013/ei.oper.an.pl.regn128cm.201301*', '/shared/working/rean/era-interim/daily/data/2014/ei.oper.an.pl.regn128cm.201401*', '/shared/working/rean/era-interim/daily/data/2015/ei.oper.an.pl.regn128cm.201501*', '/shared/working/rean/era-interim/daily/data/2016/ei.oper.an.pl.regn128cm.201601*', '/shared/working/rean/era-interim/daily/data/2017/ei.oper.an.pl.regn128cm.201701*', '/shared/working/rean/era-interim/daily/data/2018/ei.oper.an.pl.regn128cm.201801*']\n"
     ]
    },
    {
     "ename": "KeyboardInterrupt",
     "evalue": "",
     "output_type": "error",
     "traceback": [
      "\u001b[0;31m---------------------------------------------------------------------------\u001b[0m",
      "\u001b[0;31mKeyboardInterrupt\u001b[0m                         Traceback (most recent call last)",
      "\u001b[0;32m<ipython-input-6-805d797156aa>\u001b[0m in \u001b[0;36m<module>\u001b[0;34m\u001b[0m\n\u001b[1;32m     23\u001b[0m                            backend_kwargs={'indexpath':'',\n\u001b[1;32m     24\u001b[0m                                            'filter_by_keys':{'name': 'Geopotential'}},\n\u001b[0;32m---> 25\u001b[0;31m                            preprocess=preprocZ)\n\u001b[0m\u001b[1;32m     26\u001b[0m \u001b[0;34m\u001b[0m\u001b[0m\n\u001b[1;32m     27\u001b[0m     \u001b[0;31m# Read zonal wind (U) data\u001b[0m\u001b[0;34m\u001b[0m\u001b[0;34m\u001b[0m\u001b[0;34m\u001b[0m\u001b[0m\n",
      "\u001b[0;32m~/.conda/envs/ml-precip/lib/python3.7/site-packages/xarray/backends/api.py\u001b[0m in \u001b[0;36mopen_mfdataset\u001b[0;34m(paths, chunks, concat_dim, compat, preprocess, engine, data_vars, coords, combine, parallel, join, attrs_file, combine_attrs, **kwargs)\u001b[0m\n\u001b[1;32m    910\u001b[0m         \u001b[0mgetattr_\u001b[0m \u001b[0;34m=\u001b[0m \u001b[0mgetattr\u001b[0m\u001b[0;34m\u001b[0m\u001b[0;34m\u001b[0m\u001b[0m\n\u001b[1;32m    911\u001b[0m \u001b[0;34m\u001b[0m\u001b[0m\n\u001b[0;32m--> 912\u001b[0;31m     \u001b[0mdatasets\u001b[0m \u001b[0;34m=\u001b[0m \u001b[0;34m[\u001b[0m\u001b[0mopen_\u001b[0m\u001b[0;34m(\u001b[0m\u001b[0mp\u001b[0m\u001b[0;34m,\u001b[0m \u001b[0;34m**\u001b[0m\u001b[0mopen_kwargs\u001b[0m\u001b[0;34m)\u001b[0m \u001b[0;32mfor\u001b[0m \u001b[0mp\u001b[0m \u001b[0;32min\u001b[0m \u001b[0mpaths\u001b[0m\u001b[0;34m]\u001b[0m\u001b[0;34m\u001b[0m\u001b[0;34m\u001b[0m\u001b[0m\n\u001b[0m\u001b[1;32m    913\u001b[0m     \u001b[0mclosers\u001b[0m \u001b[0;34m=\u001b[0m \u001b[0;34m[\u001b[0m\u001b[0mgetattr_\u001b[0m\u001b[0;34m(\u001b[0m\u001b[0mds\u001b[0m\u001b[0;34m,\u001b[0m \u001b[0;34m\"_close\"\u001b[0m\u001b[0;34m)\u001b[0m \u001b[0;32mfor\u001b[0m \u001b[0mds\u001b[0m \u001b[0;32min\u001b[0m \u001b[0mdatasets\u001b[0m\u001b[0;34m]\u001b[0m\u001b[0;34m\u001b[0m\u001b[0;34m\u001b[0m\u001b[0m\n\u001b[1;32m    914\u001b[0m     \u001b[0;32mif\u001b[0m \u001b[0mpreprocess\u001b[0m \u001b[0;32mis\u001b[0m \u001b[0;32mnot\u001b[0m \u001b[0;32mNone\u001b[0m\u001b[0;34m:\u001b[0m\u001b[0;34m\u001b[0m\u001b[0;34m\u001b[0m\u001b[0m\n",
      "\u001b[0;32m~/.conda/envs/ml-precip/lib/python3.7/site-packages/xarray/backends/api.py\u001b[0m in \u001b[0;36m<listcomp>\u001b[0;34m(.0)\u001b[0m\n\u001b[1;32m    910\u001b[0m         \u001b[0mgetattr_\u001b[0m \u001b[0;34m=\u001b[0m \u001b[0mgetattr\u001b[0m\u001b[0;34m\u001b[0m\u001b[0;34m\u001b[0m\u001b[0m\n\u001b[1;32m    911\u001b[0m \u001b[0;34m\u001b[0m\u001b[0m\n\u001b[0;32m--> 912\u001b[0;31m     \u001b[0mdatasets\u001b[0m \u001b[0;34m=\u001b[0m \u001b[0;34m[\u001b[0m\u001b[0mopen_\u001b[0m\u001b[0;34m(\u001b[0m\u001b[0mp\u001b[0m\u001b[0;34m,\u001b[0m \u001b[0;34m**\u001b[0m\u001b[0mopen_kwargs\u001b[0m\u001b[0;34m)\u001b[0m \u001b[0;32mfor\u001b[0m \u001b[0mp\u001b[0m \u001b[0;32min\u001b[0m \u001b[0mpaths\u001b[0m\u001b[0;34m]\u001b[0m\u001b[0;34m\u001b[0m\u001b[0;34m\u001b[0m\u001b[0m\n\u001b[0m\u001b[1;32m    913\u001b[0m     \u001b[0mclosers\u001b[0m \u001b[0;34m=\u001b[0m \u001b[0;34m[\u001b[0m\u001b[0mgetattr_\u001b[0m\u001b[0;34m(\u001b[0m\u001b[0mds\u001b[0m\u001b[0;34m,\u001b[0m \u001b[0;34m\"_close\"\u001b[0m\u001b[0;34m)\u001b[0m \u001b[0;32mfor\u001b[0m \u001b[0mds\u001b[0m \u001b[0;32min\u001b[0m \u001b[0mdatasets\u001b[0m\u001b[0;34m]\u001b[0m\u001b[0;34m\u001b[0m\u001b[0;34m\u001b[0m\u001b[0m\n\u001b[1;32m    914\u001b[0m     \u001b[0;32mif\u001b[0m \u001b[0mpreprocess\u001b[0m \u001b[0;32mis\u001b[0m \u001b[0;32mnot\u001b[0m \u001b[0;32mNone\u001b[0m\u001b[0;34m:\u001b[0m\u001b[0;34m\u001b[0m\u001b[0;34m\u001b[0m\u001b[0m\n",
      "\u001b[0;32m~/.conda/envs/ml-precip/lib/python3.7/site-packages/xarray/backends/api.py\u001b[0m in \u001b[0;36mopen_dataset\u001b[0;34m(filename_or_obj, engine, chunks, cache, decode_cf, mask_and_scale, decode_times, decode_timedelta, use_cftime, concat_characters, decode_coords, drop_variables, backend_kwargs, *args, **kwargs)\u001b[0m\n\u001b[1;32m    498\u001b[0m         \u001b[0mdrop_variables\u001b[0m\u001b[0;34m=\u001b[0m\u001b[0mdrop_variables\u001b[0m\u001b[0;34m,\u001b[0m\u001b[0;34m\u001b[0m\u001b[0;34m\u001b[0m\u001b[0m\n\u001b[1;32m    499\u001b[0m         \u001b[0;34m**\u001b[0m\u001b[0mdecoders\u001b[0m\u001b[0;34m,\u001b[0m\u001b[0;34m\u001b[0m\u001b[0;34m\u001b[0m\u001b[0m\n\u001b[0;32m--> 500\u001b[0;31m         \u001b[0;34m**\u001b[0m\u001b[0mkwargs\u001b[0m\u001b[0;34m,\u001b[0m\u001b[0;34m\u001b[0m\u001b[0;34m\u001b[0m\u001b[0m\n\u001b[0m\u001b[1;32m    501\u001b[0m     )\n\u001b[1;32m    502\u001b[0m     ds = _dataset_from_backend_dataset(\n",
      "\u001b[0;32m~/.conda/envs/ml-precip/lib/python3.7/site-packages/cfgrib/xarray_plugin.py\u001b[0m in \u001b[0;36mopen_dataset\u001b[0;34m(self, filename_or_obj, mask_and_scale, decode_times, concat_characters, decode_coords, drop_variables, use_cftime, decode_timedelta, lock, indexpath, filter_by_keys, read_keys, encode_cf, squeeze, time_dims, errors)\u001b[0m\n\u001b[1;32m    106\u001b[0m             \u001b[0mtime_dims\u001b[0m\u001b[0;34m=\u001b[0m\u001b[0mtime_dims\u001b[0m\u001b[0;34m,\u001b[0m\u001b[0;34m\u001b[0m\u001b[0;34m\u001b[0m\u001b[0m\n\u001b[1;32m    107\u001b[0m             \u001b[0mlock\u001b[0m\u001b[0;34m=\u001b[0m\u001b[0mlock\u001b[0m\u001b[0;34m,\u001b[0m\u001b[0;34m\u001b[0m\u001b[0;34m\u001b[0m\u001b[0m\n\u001b[0;32m--> 108\u001b[0;31m             \u001b[0merrors\u001b[0m\u001b[0;34m=\u001b[0m\u001b[0merrors\u001b[0m\u001b[0;34m,\u001b[0m\u001b[0;34m\u001b[0m\u001b[0;34m\u001b[0m\u001b[0m\n\u001b[0m\u001b[1;32m    109\u001b[0m         )\n\u001b[1;32m    110\u001b[0m         \u001b[0;32mwith\u001b[0m \u001b[0mxr\u001b[0m\u001b[0;34m.\u001b[0m\u001b[0mcore\u001b[0m\u001b[0;34m.\u001b[0m\u001b[0mutils\u001b[0m\u001b[0;34m.\u001b[0m\u001b[0mclose_on_error\u001b[0m\u001b[0;34m(\u001b[0m\u001b[0mstore\u001b[0m\u001b[0;34m)\u001b[0m\u001b[0;34m:\u001b[0m\u001b[0;34m\u001b[0m\u001b[0;34m\u001b[0m\u001b[0m\n",
      "\u001b[0;32m~/.conda/envs/ml-precip/lib/python3.7/site-packages/cfgrib/xarray_plugin.py\u001b[0m in \u001b[0;36m__init__\u001b[0;34m(self, filename, lock, **backend_kwargs)\u001b[0m\n\u001b[1;32m     38\u001b[0m             \u001b[0mlock\u001b[0m \u001b[0;34m=\u001b[0m \u001b[0mECCODES_LOCK\u001b[0m\u001b[0;34m\u001b[0m\u001b[0;34m\u001b[0m\u001b[0m\n\u001b[1;32m     39\u001b[0m         \u001b[0mself\u001b[0m\u001b[0;34m.\u001b[0m\u001b[0mlock\u001b[0m \u001b[0;34m=\u001b[0m \u001b[0mxr\u001b[0m\u001b[0;34m.\u001b[0m\u001b[0mbackends\u001b[0m\u001b[0;34m.\u001b[0m\u001b[0mlocks\u001b[0m\u001b[0;34m.\u001b[0m\u001b[0mensure_lock\u001b[0m\u001b[0;34m(\u001b[0m\u001b[0mlock\u001b[0m\u001b[0;34m)\u001b[0m  \u001b[0;31m# type: ignore\u001b[0m\u001b[0;34m\u001b[0m\u001b[0;34m\u001b[0m\u001b[0m\n\u001b[0;32m---> 40\u001b[0;31m         \u001b[0mself\u001b[0m\u001b[0;34m.\u001b[0m\u001b[0mds\u001b[0m \u001b[0;34m=\u001b[0m \u001b[0mdataset\u001b[0m\u001b[0;34m.\u001b[0m\u001b[0mopen_file\u001b[0m\u001b[0;34m(\u001b[0m\u001b[0mfilename\u001b[0m\u001b[0;34m,\u001b[0m \u001b[0;34m**\u001b[0m\u001b[0mbackend_kwargs\u001b[0m\u001b[0;34m)\u001b[0m\u001b[0;34m\u001b[0m\u001b[0;34m\u001b[0m\u001b[0m\n\u001b[0m\u001b[1;32m     41\u001b[0m \u001b[0;34m\u001b[0m\u001b[0m\n\u001b[1;32m     42\u001b[0m     \u001b[0;32mdef\u001b[0m \u001b[0mopen_store_variable\u001b[0m\u001b[0;34m(\u001b[0m\u001b[0mself\u001b[0m\u001b[0;34m,\u001b[0m \u001b[0mvar\u001b[0m\u001b[0;34m:\u001b[0m \u001b[0mdataset\u001b[0m\u001b[0;34m.\u001b[0m\u001b[0mVariable\u001b[0m\u001b[0;34m,\u001b[0m\u001b[0;34m)\u001b[0m \u001b[0;34m->\u001b[0m \u001b[0mxr\u001b[0m\u001b[0;34m.\u001b[0m\u001b[0mVariable\u001b[0m\u001b[0;34m:\u001b[0m\u001b[0;34m\u001b[0m\u001b[0;34m\u001b[0m\u001b[0m\n",
      "\u001b[0;32m~/.conda/envs/ml-precip/lib/python3.7/site-packages/cfgrib/dataset.py\u001b[0m in \u001b[0;36mopen_file\u001b[0;34m(path, grib_errors, indexpath, filter_by_keys, read_keys, time_dims, extra_coords, **kwargs)\u001b[0m\n\u001b[1;32m    711\u001b[0m     return Dataset(\n\u001b[1;32m    712\u001b[0m         *build_dataset_components(\n\u001b[0;32m--> 713\u001b[0;31m             \u001b[0mindex\u001b[0m\u001b[0;34m,\u001b[0m \u001b[0mread_keys\u001b[0m\u001b[0;34m=\u001b[0m\u001b[0mread_keys\u001b[0m\u001b[0;34m,\u001b[0m \u001b[0mtime_dims\u001b[0m\u001b[0;34m=\u001b[0m\u001b[0mtime_dims\u001b[0m\u001b[0;34m,\u001b[0m \u001b[0mextra_coords\u001b[0m\u001b[0;34m=\u001b[0m\u001b[0mextra_coords\u001b[0m\u001b[0;34m,\u001b[0m \u001b[0;34m**\u001b[0m\u001b[0mkwargs\u001b[0m\u001b[0;34m\u001b[0m\u001b[0;34m\u001b[0m\u001b[0m\n\u001b[0m\u001b[1;32m    714\u001b[0m         )\n\u001b[1;32m    715\u001b[0m     )\n",
      "\u001b[0;32m~/.conda/envs/ml-precip/lib/python3.7/site-packages/cfgrib/dataset.py\u001b[0m in \u001b[0;36mbuild_dataset_components\u001b[0;34m(index, errors, encode_cf, squeeze, log, read_keys, time_dims, extra_coords)\u001b[0m\n\u001b[1;32m    632\u001b[0m                 \u001b[0mread_keys\u001b[0m\u001b[0;34m=\u001b[0m\u001b[0mread_keys\u001b[0m\u001b[0;34m,\u001b[0m\u001b[0;34m\u001b[0m\u001b[0;34m\u001b[0m\u001b[0m\n\u001b[1;32m    633\u001b[0m                 \u001b[0mtime_dims\u001b[0m\u001b[0;34m=\u001b[0m\u001b[0mtime_dims\u001b[0m\u001b[0;34m,\u001b[0m\u001b[0;34m\u001b[0m\u001b[0;34m\u001b[0m\u001b[0m\n\u001b[0;32m--> 634\u001b[0;31m                 \u001b[0mextra_coords\u001b[0m\u001b[0;34m=\u001b[0m\u001b[0mextra_coords\u001b[0m\u001b[0;34m,\u001b[0m\u001b[0;34m\u001b[0m\u001b[0;34m\u001b[0m\u001b[0m\n\u001b[0m\u001b[1;32m    635\u001b[0m             )\n\u001b[1;32m    636\u001b[0m         \u001b[0;32mexcept\u001b[0m \u001b[0mDatasetBuildError\u001b[0m \u001b[0;32mas\u001b[0m \u001b[0mex\u001b[0m\u001b[0;34m:\u001b[0m\u001b[0;34m\u001b[0m\u001b[0;34m\u001b[0m\u001b[0m\n",
      "\u001b[0;32m~/.conda/envs/ml-precip/lib/python3.7/site-packages/cfgrib/dataset.py\u001b[0m in \u001b[0;36mbuild_variable_components\u001b[0;34m(index, encode_cf, filter_by_keys, log, errors, squeeze, read_keys, time_dims, extra_coords)\u001b[0m\n\u001b[1;32m    512\u001b[0m     \u001b[0mheader_shape\u001b[0m \u001b[0;34m=\u001b[0m \u001b[0mtuple\u001b[0m\u001b[0;34m(\u001b[0m\u001b[0mcoord_vars\u001b[0m\u001b[0;34m[\u001b[0m\u001b[0md\u001b[0m\u001b[0;34m]\u001b[0m\u001b[0;34m.\u001b[0m\u001b[0mdata\u001b[0m\u001b[0;34m.\u001b[0m\u001b[0msize\u001b[0m \u001b[0;32mfor\u001b[0m \u001b[0md\u001b[0m \u001b[0;32min\u001b[0m \u001b[0mheader_dimensions\u001b[0m\u001b[0;34m)\u001b[0m\u001b[0;34m\u001b[0m\u001b[0;34m\u001b[0m\u001b[0m\n\u001b[1;32m    513\u001b[0m \u001b[0;34m\u001b[0m\u001b[0m\n\u001b[0;32m--> 514\u001b[0;31m     \u001b[0mgeo_dims\u001b[0m\u001b[0;34m,\u001b[0m \u001b[0mgeo_shape\u001b[0m\u001b[0;34m,\u001b[0m \u001b[0mgeo_coord_vars\u001b[0m \u001b[0;34m=\u001b[0m \u001b[0mbuild_geography_coordinates\u001b[0m\u001b[0;34m(\u001b[0m\u001b[0mfirst\u001b[0m\u001b[0;34m,\u001b[0m \u001b[0mencode_cf\u001b[0m\u001b[0;34m,\u001b[0m \u001b[0merrors\u001b[0m\u001b[0;34m)\u001b[0m\u001b[0;34m\u001b[0m\u001b[0;34m\u001b[0m\u001b[0m\n\u001b[0m\u001b[1;32m    515\u001b[0m     \u001b[0mdimensions\u001b[0m \u001b[0;34m=\u001b[0m \u001b[0mheader_dimensions\u001b[0m \u001b[0;34m+\u001b[0m \u001b[0mgeo_dims\u001b[0m\u001b[0;34m\u001b[0m\u001b[0;34m\u001b[0m\u001b[0m\n\u001b[1;32m    516\u001b[0m     \u001b[0mshape\u001b[0m \u001b[0;34m=\u001b[0m \u001b[0mheader_shape\u001b[0m \u001b[0;34m+\u001b[0m \u001b[0mgeo_shape\u001b[0m\u001b[0;34m\u001b[0m\u001b[0;34m\u001b[0m\u001b[0m\n",
      "\u001b[0;32m~/.conda/envs/ml-precip/lib/python3.7/site-packages/cfgrib/dataset.py\u001b[0m in \u001b[0;36mbuild_geography_coordinates\u001b[0;34m(first, encode_cf, errors, log)\u001b[0m\n\u001b[1;32m    377\u001b[0m         \u001b[0mgeo_dims\u001b[0m \u001b[0;34m=\u001b[0m \u001b[0;34m(\u001b[0m\u001b[0;34m\"latitude\"\u001b[0m\u001b[0;34m,\u001b[0m \u001b[0;34m\"longitude\"\u001b[0m\u001b[0;34m)\u001b[0m  \u001b[0;31m# type: T.Tuple[str, ...]\u001b[0m\u001b[0;34m\u001b[0m\u001b[0;34m\u001b[0m\u001b[0m\n\u001b[1;32m    378\u001b[0m         \u001b[0mgeo_shape\u001b[0m \u001b[0;34m=\u001b[0m \u001b[0;34m(\u001b[0m\u001b[0mfirst\u001b[0m\u001b[0;34m[\u001b[0m\u001b[0;34m\"Ny\"\u001b[0m\u001b[0;34m]\u001b[0m\u001b[0;34m,\u001b[0m \u001b[0mfirst\u001b[0m\u001b[0;34m[\u001b[0m\u001b[0;34m\"Nx\"\u001b[0m\u001b[0;34m]\u001b[0m\u001b[0;34m)\u001b[0m  \u001b[0;31m# type: T.Tuple[int, ...]\u001b[0m\u001b[0;34m\u001b[0m\u001b[0;34m\u001b[0m\u001b[0m\n\u001b[0;32m--> 379\u001b[0;31m         \u001b[0mlatitudes\u001b[0m \u001b[0;34m=\u001b[0m \u001b[0mnp\u001b[0m\u001b[0;34m.\u001b[0m\u001b[0marray\u001b[0m\u001b[0;34m(\u001b[0m\u001b[0mfirst\u001b[0m\u001b[0;34m[\u001b[0m\u001b[0;34m\"distinctLatitudes\"\u001b[0m\u001b[0;34m]\u001b[0m\u001b[0;34m,\u001b[0m \u001b[0mndmin\u001b[0m\u001b[0;34m=\u001b[0m\u001b[0;36m1\u001b[0m\u001b[0;34m)\u001b[0m\u001b[0;34m\u001b[0m\u001b[0;34m\u001b[0m\u001b[0m\n\u001b[0m\u001b[1;32m    380\u001b[0m         geo_coord_vars[\"latitude\"] = Variable(\n\u001b[1;32m    381\u001b[0m             \u001b[0mdimensions\u001b[0m\u001b[0;34m=\u001b[0m\u001b[0;34m(\u001b[0m\u001b[0;34m\"latitude\"\u001b[0m\u001b[0;34m,\u001b[0m\u001b[0;34m)\u001b[0m\u001b[0;34m,\u001b[0m \u001b[0mdata\u001b[0m\u001b[0;34m=\u001b[0m\u001b[0mlatitudes\u001b[0m\u001b[0;34m,\u001b[0m \u001b[0mattributes\u001b[0m\u001b[0;34m=\u001b[0m\u001b[0mCOORD_ATTRS\u001b[0m\u001b[0;34m[\u001b[0m\u001b[0;34m\"latitude\"\u001b[0m\u001b[0;34m]\u001b[0m\u001b[0;34m.\u001b[0m\u001b[0mcopy\u001b[0m\u001b[0;34m(\u001b[0m\u001b[0;34m)\u001b[0m\u001b[0;34m\u001b[0m\u001b[0;34m\u001b[0m\u001b[0m\n",
      "\u001b[0;32m~/.conda/envs/ml-precip/lib/python3.7/site-packages/cfgrib/messages.py\u001b[0m in \u001b[0;36m__getitem__\u001b[0;34m(self, item)\u001b[0m\n\u001b[1;32m    195\u001b[0m             \u001b[0;32mreturn\u001b[0m \u001b[0mgetter\u001b[0m\u001b[0;34m(\u001b[0m\u001b[0mself\u001b[0m\u001b[0;34m)\u001b[0m\u001b[0;34m\u001b[0m\u001b[0;34m\u001b[0m\u001b[0m\n\u001b[1;32m    196\u001b[0m         \u001b[0;32melse\u001b[0m\u001b[0;34m:\u001b[0m\u001b[0;34m\u001b[0m\u001b[0;34m\u001b[0m\u001b[0m\n\u001b[0;32m--> 197\u001b[0;31m             \u001b[0;32mreturn\u001b[0m \u001b[0msuper\u001b[0m\u001b[0;34m(\u001b[0m\u001b[0mComputedKeysMessage\u001b[0m\u001b[0;34m,\u001b[0m \u001b[0mself\u001b[0m\u001b[0;34m)\u001b[0m\u001b[0;34m.\u001b[0m\u001b[0m__getitem__\u001b[0m\u001b[0;34m(\u001b[0m\u001b[0mitem\u001b[0m\u001b[0;34m)\u001b[0m\u001b[0;34m\u001b[0m\u001b[0;34m\u001b[0m\u001b[0m\n\u001b[0m\u001b[1;32m    198\u001b[0m \u001b[0;34m\u001b[0m\u001b[0m\n\u001b[1;32m    199\u001b[0m     \u001b[0;32mdef\u001b[0m \u001b[0m__iter__\u001b[0m\u001b[0;34m(\u001b[0m\u001b[0mself\u001b[0m\u001b[0;34m)\u001b[0m \u001b[0;34m->\u001b[0m \u001b[0mT\u001b[0m\u001b[0;34m.\u001b[0m\u001b[0mIterator\u001b[0m\u001b[0;34m[\u001b[0m\u001b[0mstr\u001b[0m\u001b[0;34m]\u001b[0m\u001b[0;34m:\u001b[0m\u001b[0;34m\u001b[0m\u001b[0;34m\u001b[0m\u001b[0m\n",
      "\u001b[0;32m~/.conda/envs/ml-precip/lib/python3.7/site-packages/cfgrib/messages.py\u001b[0m in \u001b[0;36m__getitem__\u001b[0;34m(self, item)\u001b[0m\n\u001b[1;32m    148\u001b[0m             \u001b[0;32mraise\u001b[0m \u001b[0mValueError\u001b[0m\u001b[0;34m(\u001b[0m\u001b[0;34m\"key type not supported %r\"\u001b[0m \u001b[0;34m%\u001b[0m \u001b[0mkey_type_text\u001b[0m\u001b[0;34m)\u001b[0m\u001b[0;34m\u001b[0m\u001b[0;34m\u001b[0m\u001b[0m\n\u001b[1;32m    149\u001b[0m         \u001b[0mkey_type\u001b[0m \u001b[0;34m=\u001b[0m \u001b[0mKEY_TYPES\u001b[0m\u001b[0;34m[\u001b[0m\u001b[0mkey_type_text\u001b[0m\u001b[0;34m]\u001b[0m\u001b[0;34m\u001b[0m\u001b[0;34m\u001b[0m\u001b[0m\n\u001b[0;32m--> 150\u001b[0;31m         \u001b[0;32mreturn\u001b[0m \u001b[0mself\u001b[0m\u001b[0;34m.\u001b[0m\u001b[0mmessage_get\u001b[0m\u001b[0;34m(\u001b[0m\u001b[0mkey\u001b[0m\u001b[0;34m,\u001b[0m \u001b[0mkey_type\u001b[0m\u001b[0;34m=\u001b[0m\u001b[0mkey_type\u001b[0m\u001b[0;34m)\u001b[0m\u001b[0;34m\u001b[0m\u001b[0;34m\u001b[0m\u001b[0m\n\u001b[0m\u001b[1;32m    151\u001b[0m \u001b[0;34m\u001b[0m\u001b[0m\n\u001b[1;32m    152\u001b[0m     \u001b[0;32mdef\u001b[0m \u001b[0m__setitem__\u001b[0m\u001b[0;34m(\u001b[0m\u001b[0mself\u001b[0m\u001b[0;34m,\u001b[0m \u001b[0mitem\u001b[0m\u001b[0;34m:\u001b[0m \u001b[0mstr\u001b[0m\u001b[0;34m,\u001b[0m \u001b[0mvalue\u001b[0m\u001b[0;34m:\u001b[0m \u001b[0mT\u001b[0m\u001b[0;34m.\u001b[0m\u001b[0mAny\u001b[0m\u001b[0;34m)\u001b[0m \u001b[0;34m->\u001b[0m \u001b[0;32mNone\u001b[0m\u001b[0;34m:\u001b[0m\u001b[0;34m\u001b[0m\u001b[0;34m\u001b[0m\u001b[0m\n",
      "\u001b[0;32m~/.conda/envs/ml-precip/lib/python3.7/site-packages/cfgrib/messages.py\u001b[0m in \u001b[0;36mmessage_get\u001b[0;34m(self, item, key_type, default)\u001b[0m\n\u001b[1;32m    116\u001b[0m         \u001b[0;34m\"\"\"Get value of a given key as its native or specified type.\"\"\"\u001b[0m\u001b[0;34m\u001b[0m\u001b[0;34m\u001b[0m\u001b[0m\n\u001b[1;32m    117\u001b[0m         \u001b[0;32mtry\u001b[0m\u001b[0;34m:\u001b[0m\u001b[0;34m\u001b[0m\u001b[0;34m\u001b[0m\u001b[0m\n\u001b[0;32m--> 118\u001b[0;31m             \u001b[0mvalues\u001b[0m \u001b[0;34m=\u001b[0m \u001b[0meccodes\u001b[0m\u001b[0;34m.\u001b[0m\u001b[0mcodes_get_array\u001b[0m\u001b[0;34m(\u001b[0m\u001b[0mself\u001b[0m\u001b[0;34m.\u001b[0m\u001b[0mcodes_id\u001b[0m\u001b[0;34m,\u001b[0m \u001b[0mitem\u001b[0m\u001b[0;34m,\u001b[0m \u001b[0mkey_type\u001b[0m\u001b[0;34m)\u001b[0m\u001b[0;34m\u001b[0m\u001b[0;34m\u001b[0m\u001b[0m\n\u001b[0m\u001b[1;32m    119\u001b[0m             \u001b[0;32mif\u001b[0m \u001b[0mvalues\u001b[0m \u001b[0;32mis\u001b[0m \u001b[0;32mNone\u001b[0m\u001b[0;34m:\u001b[0m\u001b[0;34m\u001b[0m\u001b[0;34m\u001b[0m\u001b[0m\n\u001b[1;32m    120\u001b[0m                 \u001b[0mvalues\u001b[0m \u001b[0;34m=\u001b[0m \u001b[0;34m[\u001b[0m\u001b[0;34m\"unsupported_key_type\"\u001b[0m\u001b[0;34m]\u001b[0m\u001b[0;34m\u001b[0m\u001b[0;34m\u001b[0m\u001b[0m\n",
      "\u001b[0;32m~/.conda/envs/ml-precip/lib/python3.7/site-packages/gribapi/gribapi.py\u001b[0m in \u001b[0;36mgrib_get_array\u001b[0;34m(msgid, key, ktype)\u001b[0m\n\u001b[1;32m   1956\u001b[0m         \u001b[0mresult\u001b[0m \u001b[0;34m=\u001b[0m \u001b[0mgrib_get_long_array\u001b[0m\u001b[0;34m(\u001b[0m\u001b[0mmsgid\u001b[0m\u001b[0;34m,\u001b[0m \u001b[0mkey\u001b[0m\u001b[0;34m)\u001b[0m\u001b[0;34m\u001b[0m\u001b[0;34m\u001b[0m\u001b[0m\n\u001b[1;32m   1957\u001b[0m     \u001b[0;32melif\u001b[0m \u001b[0mktype\u001b[0m \u001b[0;32mis\u001b[0m \u001b[0mfloat\u001b[0m\u001b[0;34m:\u001b[0m\u001b[0;34m\u001b[0m\u001b[0;34m\u001b[0m\u001b[0m\n\u001b[0;32m-> 1958\u001b[0;31m         \u001b[0mresult\u001b[0m \u001b[0;34m=\u001b[0m \u001b[0mgrib_get_double_array\u001b[0m\u001b[0;34m(\u001b[0m\u001b[0mmsgid\u001b[0m\u001b[0;34m,\u001b[0m \u001b[0mkey\u001b[0m\u001b[0;34m)\u001b[0m\u001b[0;34m\u001b[0m\u001b[0;34m\u001b[0m\u001b[0m\n\u001b[0m\u001b[1;32m   1959\u001b[0m     \u001b[0;32melif\u001b[0m \u001b[0mktype\u001b[0m \u001b[0;32mis\u001b[0m \u001b[0mstr\u001b[0m\u001b[0;34m:\u001b[0m\u001b[0;34m\u001b[0m\u001b[0;34m\u001b[0m\u001b[0m\n\u001b[1;32m   1960\u001b[0m         \u001b[0mresult\u001b[0m \u001b[0;34m=\u001b[0m \u001b[0mgrib_get_string_array\u001b[0m\u001b[0;34m(\u001b[0m\u001b[0mmsgid\u001b[0m\u001b[0;34m,\u001b[0m \u001b[0mkey\u001b[0m\u001b[0;34m)\u001b[0m\u001b[0;34m\u001b[0m\u001b[0;34m\u001b[0m\u001b[0m\n",
      "\u001b[0;32m~/.conda/envs/ml-precip/lib/python3.7/site-packages/gribapi/gribapi.py\u001b[0m in \u001b[0;36mgrib_get_double_array\u001b[0;34m(msgid, key)\u001b[0m\n\u001b[1;32m   1167\u001b[0m     \u001b[0marr\u001b[0m \u001b[0;34m=\u001b[0m \u001b[0mnp\u001b[0m\u001b[0;34m.\u001b[0m\u001b[0mempty\u001b[0m\u001b[0;34m(\u001b[0m\u001b[0;34m(\u001b[0m\u001b[0mnval\u001b[0m\u001b[0;34m,\u001b[0m\u001b[0;34m)\u001b[0m\u001b[0;34m,\u001b[0m \u001b[0mdtype\u001b[0m\u001b[0;34m=\u001b[0m\u001b[0;34m\"float64\"\u001b[0m\u001b[0;34m)\u001b[0m\u001b[0;34m\u001b[0m\u001b[0;34m\u001b[0m\u001b[0m\n\u001b[1;32m   1168\u001b[0m     \u001b[0mvals_p\u001b[0m \u001b[0;34m=\u001b[0m \u001b[0mffi\u001b[0m\u001b[0;34m.\u001b[0m\u001b[0mcast\u001b[0m\u001b[0;34m(\u001b[0m\u001b[0;34m\"double *\"\u001b[0m\u001b[0;34m,\u001b[0m \u001b[0marr\u001b[0m\u001b[0;34m.\u001b[0m\u001b[0mctypes\u001b[0m\u001b[0;34m.\u001b[0m\u001b[0mdata\u001b[0m\u001b[0;34m)\u001b[0m\u001b[0;34m\u001b[0m\u001b[0;34m\u001b[0m\u001b[0m\n\u001b[0;32m-> 1169\u001b[0;31m     \u001b[0merr\u001b[0m \u001b[0;34m=\u001b[0m \u001b[0mlib\u001b[0m\u001b[0;34m.\u001b[0m\u001b[0mgrib_get_double_array\u001b[0m\u001b[0;34m(\u001b[0m\u001b[0mh\u001b[0m\u001b[0;34m,\u001b[0m \u001b[0mkey\u001b[0m\u001b[0;34m.\u001b[0m\u001b[0mencode\u001b[0m\u001b[0;34m(\u001b[0m\u001b[0mENC\u001b[0m\u001b[0;34m)\u001b[0m\u001b[0;34m,\u001b[0m \u001b[0mvals_p\u001b[0m\u001b[0;34m,\u001b[0m \u001b[0mlength_p\u001b[0m\u001b[0;34m)\u001b[0m\u001b[0;34m\u001b[0m\u001b[0;34m\u001b[0m\u001b[0m\n\u001b[0m\u001b[1;32m   1170\u001b[0m     \u001b[0mGRIB_CHECK\u001b[0m\u001b[0;34m(\u001b[0m\u001b[0merr\u001b[0m\u001b[0;34m)\u001b[0m\u001b[0;34m\u001b[0m\u001b[0;34m\u001b[0m\u001b[0m\n\u001b[1;32m   1171\u001b[0m     \u001b[0;32mreturn\u001b[0m \u001b[0marr\u001b[0m\u001b[0;34m\u001b[0m\u001b[0;34m\u001b[0m\u001b[0m\n",
      "\u001b[0;31mKeyboardInterrupt\u001b[0m: "
     ]
    }
   ],
   "source": [
    "# Create empty list to append data for each month\n",
    "ds_Z_months=[]\n",
    "ds_U_months=[]\n",
    "\n",
    "# Loop over months, get list of files and read in data for each month\n",
    "for m in np.arange(1,13):\n",
    "        \n",
    "    # Get all the filenames for this month for all years\n",
    "    fnamesZ = [f\"{path}{year}/{fname}{year}{m:02d}*\" for year in yrs_list]       \n",
    "    print(fnamesZ)\n",
    "    # Create list of all filenames for this month, and all years\n",
    "    filesZ=[]\n",
    "    for files in fnamesZ:\n",
    "        f2=glob.glob(files)\n",
    "        for f in f2:\n",
    "            filesZ.append(f)\n",
    "    \n",
    "    filesZ=sorted(filesZ)\n",
    "    \n",
    "    # Read Geopotential Height (Z) data           \n",
    "    ds_Z=xr.open_mfdataset(filesZ,engine='cfgrib',\n",
    "                           combine='nested',concat_dim=['time'],\n",
    "                           backend_kwargs={'indexpath':'',\n",
    "                                           'filter_by_keys':{'name': 'Geopotential'}},\n",
    "                           preprocess=preprocZ)\n",
    " \n",
    "    # Read zonal wind (U) data\n",
    "    ds_U=xr.open_mfdataset(filesZ,engine='cfgrib',\n",
    "                           combine='nested',concat_dim=['time'],\n",
    "                           backend_kwargs={'indexpath':'',\n",
    "                                           'filter_by_keys':{'name': 'U component of wind'}},\n",
    "                           preprocess=preprocU) \n",
    "\n",
    "    \n",
    "    # Create dates for time assign to time dimension\n",
    "    dates_all=pd.date_range(start=sdate,end=edate,freq='D')\n",
    "    print(dates_all)\n",
    "    seas_dates=dates_all[(dates_all.month==m)]\n",
    "    print(seas_dates)\n",
    "    ds_Z['time']=seas_dates\n",
    "    ds_U['time']=seas_dates\n",
    "        \n",
    "    # Append the latest month to the list\n",
    "    ds_Z_months.append(ds_Z)\n",
    "    ds_U_months.append(ds_U)\n",
    "        \n",
    "# Combine the months into the init dimension\n",
    "ds_Z_months = xr.combine_nested(ds_Z_months, concat_dim='time')\n",
    "ds_U_months = xr.combine_nested(ds_U_months, concat_dim='time')"
   ]
  },
  {
   "cell_type": "code",
   "execution_count": null,
   "id": "ab3033d1-e47e-46c3-ae6d-e2adbab77711",
   "metadata": {},
   "outputs": [],
   "source": [
    "ds_ZU=xr.merge([ds_Z_months,ds_U_months])\n",
    "ds_ZU"
   ]
  },
  {
   "cell_type": "code",
   "execution_count": null,
   "id": "76368ba6-5b7e-4565-aa1f-55d5fd863d9a",
   "metadata": {},
   "outputs": [],
   "source": [
    "ds_ZU.to_netcdf(outfile)"
   ]
  },
  {
   "cell_type": "code",
   "execution_count": null,
   "id": "806a4779-6667-4197-b3a1-ce2dba5d37b4",
   "metadata": {},
   "outputs": [],
   "source": []
  }
 ],
 "metadata": {
  "kernelspec": {
   "display_name": "Python (ml-precip)",
   "language": "python",
   "name": "ml-precip"
  },
  "language_info": {
   "codemirror_mode": {
    "name": "ipython",
    "version": 3
   },
   "file_extension": ".py",
   "mimetype": "text/x-python",
   "name": "python",
   "nbconvert_exporter": "python",
   "pygments_lexer": "ipython3",
   "version": "3.7.10"
  }
 },
 "nbformat": 4,
 "nbformat_minor": 5
}
