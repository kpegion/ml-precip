{
 "cells": [
  {
   "cell_type": "code",
   "execution_count": 8,
   "id": "e7aff4d2-1917-48a5-badd-3307c000a548",
   "metadata": {
    "iooxa": {
     "id": {
      "block": "JqQbyTrJbSZA991ofMhZ",
      "project": "ixWGbde11pmE0ozXb9jj",
      "version": 4
     },
     "outputId": {
      "block": "OJaxpN1VbcX29JymKl79",
      "project": "ixWGbde11pmE0ozXb9jj",
      "version": 4
     }
    },
    "tags": []
   },
   "outputs": [],
   "source": [
    "import numpy as np\n",
    "import pandas as pd\n",
    "import xarray as xr\n",
    "import matplotlib.pyplot as plt\n",
    "from scipy import signal\n",
    "import xesmf as xe\n",
    "from keras.models import load_model\n",
    " \n",
    "from mlprecip_utils import *\n",
    "from mlprecip_models import *\n",
    "from mlprecip_xai import *\n",
    "from mlprecip_plot import *\n",
    "\n",
    "import warnings\n",
    "warnings.filterwarnings(\"ignore\")"
   ]
  },
  {
   "cell_type": "code",
   "execution_count": 10,
   "id": "c55988b6-3199-4381-85db-a216154481f8",
   "metadata": {},
   "outputs": [],
   "source": [
    "varname='precip'\n",
    "model_type='cnn_cat' \n",
    "nmodels=1\n",
    "model_path='../data/cnn_test/seus.median'\n",
    "pad_length=10\n",
    "winter=[12,1,2]\n",
    "summer=[6,7,8]\n",
    "cat_labels=['Negative','Positive']"
   ]
  },
  {
   "cell_type": "markdown",
   "id": "ab164f14-6cf5-40dd-aa0b-e2dcf0549847",
   "metadata": {},
   "source": [
    "### Read in train and test data"
   ]
  },
  {
   "cell_type": "code",
   "execution_count": 11,
   "id": "55745717-4ba8-42d9-ae01-889e6e9e20d9",
   "metadata": {},
   "outputs": [],
   "source": [
    "ds_features_tval=xr.open_dataset('../data/cnn/features_trainval.nc')\n",
    "ds_target_tval=xr.open_dataset('../data/cnn/target_trainval.nc')\n",
    "ds_features_test=xr.open_dataset('../data/cnn/features_test.nc')\n",
    "ds_target_test=xr.open_dataset('../data/cnn/target_test.nc')"
   ]
  },
  {
   "cell_type": "code",
   "execution_count": 12,
   "id": "bef5c3c8-1341-4194-ac7e-54aa89a59803",
   "metadata": {},
   "outputs": [],
   "source": [
    "ds_features=[ds_features_tval,ds_features_test]\n",
    "ds_target=[ds_target_tval,ds_target_test]"
   ]
  },
  {
   "cell_type": "markdown",
   "id": "629a9ca2-ea81-4bb8-a97d-56fd6f4dfa66",
   "metadata": {
    "iooxa": {
     "id": {
      "block": "zHvVzZGIghhqdABIv0QF",
      "project": "ixWGbde11pmE0ozXb9jj",
      "version": 1
     }
    }
   },
   "source": [
    "### Main Program to Validate Models"
   ]
  },
  {
   "cell_type": "code",
   "execution_count": 13,
   "id": "6ac39cb1-0865-4486-b94a-1bebf964dbe4",
   "metadata": {
    "iooxa": {
     "id": {
      "block": "Ypwk9okr2NDryOhyynwl",
      "project": "ixWGbde11pmE0ozXb9jj",
      "version": 7
     },
     "outputId": {
      "block": "HdrGbiPyfInL5P7dE8eh",
      "project": "ixWGbde11pmE0ozXb9jj",
      "version": 5
     }
    }
   },
   "outputs": [
    {
     "name": "stdout",
     "output_type": "stream",
     "text": [
      "Summer\n",
      "Train-Val\n",
      "Upper Cat:  1748\n",
      "Lower Cat:  1748\n",
      "Check Features and Target Dimensions\n",
      "Features (X):  (3496, 37, 92, 6)\n",
      "Target (Y):  (3496, 2)\n",
      "../data/cnn_test/seus.median.JJA.cnn_cat.0.h5\n",
      "<keras.engine.training.Model object at 0x7fb17a6f66d0>\n",
      "3496/3496 [==============================] - 11s 3ms/step\n",
      "acc: 68.48%\n",
      "Test\n",
      "Upper Cat:  46\n",
      "Lower Cat:  46\n",
      "Check Features and Target Dimensions\n",
      "Features (X):  (92, 37, 92, 6)\n",
      "Target (Y):  (92, 2)\n",
      "../data/cnn_test/seus.median.JJA.cnn_cat.0.h5\n",
      "<keras.engine.training.Model object at 0x7fb16c2dc350>\n",
      "92/92 [==============================] - 3s 35ms/step\n",
      "acc: 50.00%\n"
     ]
    }
   ],
   "source": [
    "# Loop over seasons\n",
    "#for seas,slabel,seas_abbrv in zip([winter,summer],['Winter','Summer'],['DJF','JJA']):\n",
    "for seas,slabel,seas_abbrv in zip([summer],['Summer'],['JJA']):\n",
    "\n",
    "    print(slabel)\n",
    "    \n",
    "    # Loop over Train-Val and Test\n",
    "    for (ds_f, ds_t,label) in zip(ds_features, ds_target,['Train-Val','Test']):\n",
    "        \n",
    "        print(label)\n",
    "        \n",
    "        # Make sure we have the same times for target and features\n",
    "        ds_t,ds_f=xr.align(ds_t.dropna(dim='time'),\n",
    "                           ds_f.dropna(dim='time'),\n",
    "                           join='inner')\n",
    "        \n",
    "        # Select season from target precip anomalies and features\n",
    "        ds_f_seas=ds_f.sel(time=ds_f['time.month'].isin(seas)) \n",
    "        ds_t_seas=ds_t.sel(time=ds_t['time.month'].isin(seas)) \n",
    "    \n",
    "        # Subtract the median to ensure data is centered and classes are equal\n",
    "        median=np.percentile(ds_t_seas[varname],50)\n",
    "        ds_t_seas[varname]=ds_t_seas[varname]-median\n",
    "       \n",
    "        # Create X Features input\n",
    "        feature_vars=list(ds_f_seas.keys())\n",
    "        da_list=[]\n",
    "        for v in feature_vars:\n",
    "            da_list.append(ds_f_seas[v])\n",
    "            X=xr.combine_nested(da_list,concat_dim='var') \n",
    "            X=(X.transpose('time','lat','lon','var')).values\n",
    "            X=xr.where(X!=0,(X-np.nanmean(X,axis=0))/np.nanstd(X,axis=0),0.0)\n",
    "            X_pad=np.pad(X,((0,0),(0,0),(pad_length,pad_length),(0,0)),'wrap')\n",
    "\n",
    "        # One Hot Encode Target (Y)\n",
    "        Y_ohe=make_ohe_thresh_med(ds_t_seas[varname])\n",
    "    \n",
    "        print('Check Features and Target Dimensions')\n",
    "        print('Features (X): ',X_pad.shape)\n",
    "        print('Target (Y): ',Y_ohe.shape)\n",
    "        \n",
    "        # Loop over Models\n",
    "        for imodel in range(nmodels):\n",
    "            \n",
    "            model_infname=model_path+'.'+seas_abbrv+'.'+model_type+'.'+str(imodel)+'.h5'\n",
    "            print(model_infname)\n",
    "            model=load_model(model_infname)\n",
    "            print(model)\n",
    "            #model.summary()\n",
    "            \n",
    "            # Accuracy Score\n",
    "            score=model.evaluate(X_pad,Y_ohe) \n",
    "            print(\"%s: %.2f%%\" % (model.metrics_names[1], score[1]*100))\n",
    "            #print('Accuracy: ',str(history))\n",
    "            \n",
    "            # Predictions\n",
    "            Yprobs=model.predict(X_pad)\n",
    "            Ypred=np.argmax(Yprobs, axis = 1)\n",
    "            \n",
    "            # Classification Report\n",
    "            #print(classification_report(np.argmax(Y_ohe,axis=1), Ypred))\n",
    "            \n",
    "            # Confusion Matrix\n",
    "            #cm = confusion_matrix(np.argmax(Y_ohe,axis=1), Ypred)\n",
    "            #disp = ConfusionMatrixDisplay(confusion_matrix=cm)\n",
    "            #disp.plot()\n",
    "            \n",
    "            # Calculate LRP (TO-DO: put this into and return ds_lrp)\n",
    "            rules=['lrp.alpha_1_beta_0']\n",
    "            a=calcLRP(model,X_pad.reshape(X_pad.shape[0],\n",
    "                                          X_pad.shape[1],\n",
    "                                          X_pad.shape[2],\n",
    "                                          X_pad.shape[3]),rules=rules)\n",
    "            b=np.asarray(a)[:,:,:,pad_length:-pad_length,:]\n",
    "            del a\n",
    "        \n",
    "            # Put all model output information into a Dataset \n",
    "            # to be written to a netcdf file (Function?)\n",
    "            ds_lrp=xr.DataArray(b,\n",
    "                                coords={'rules':rules,\n",
    "                                        'time':ds_f_seas['time'],\n",
    "                                        'lat':ds_f_seas['lat'],\n",
    "                                        'lon':ds_f_seas['lon'],\n",
    "                                        'var':list(ds_f_seas.keys())},\n",
    "                                        dims=['rules','time','lat','lon','var']).to_dataset(name='lrp') \n",
    "            del b\n",
    "        \n",
    "            ds_pred=xr.DataArray(Ypred,coords={'time':ds_f_seas['time']},\n",
    "                                 dims=['time']).to_dataset(name='pred')\n",
    "    \n",
    "            ds_probs=xr.DataArray(Yprobs,coords={'time':ds_f_seas['time'],\n",
    "                                                 'cat':cat_labels},\n",
    "                                        dims=['time','cat']).to_dataset(name='probs')\n",
    "            ds_acc=xr.DataArray(score[1],\n",
    "                                coords={'model':[imodel]},\n",
    "                                dims=['model']).to_dataset(name='acc')    \n",
    "            ds_verif=xr.DataArray(np.argmax(Y_ohe,axis=1),\n",
    "                                  coords={'time':ds_f_seas['time']},\n",
    "                                  dims=['time']).to_dataset(name='verif')\n",
    "          \n",
    "            ds=xr.merge([ds_lrp,ds_pred,ds_verif,ds_probs,ds_acc])\n",
    "            \n",
    "            del ds_lrp,ds_pred,ds_verif,ds_probs,ds_acc\n",
    "            \n",
    "            #model_ofname='../data/cnn_test/model_validate.'+label+'.'+seas_abbrv+'.'+model_type+'.'+str(imodel)+'.nc'\n",
    "            #ds.to_netcdf(model_ofname)"
   ]
  },
  {
   "cell_type": "code",
   "execution_count": null,
   "id": "f3cc98ad-e293-4804-9a1b-b4554b05ec9d",
   "metadata": {},
   "outputs": [],
   "source": []
  }
 ],
 "metadata": {
  "iooxa": {
   "id": {
    "block": "gjcdFetJIlDj4maw5j0h",
    "project": "ixWGbde11pmE0ozXb9jj",
    "version": 6
   }
  },
  "kernelspec": {
   "display_name": "Python (ml-precip)",
   "language": "python",
   "name": "ml-precip"
  },
  "language_info": {
   "codemirror_mode": {
    "name": "ipython",
    "version": 3
   },
   "file_extension": ".py",
   "mimetype": "text/x-python",
   "name": "python",
   "nbconvert_exporter": "python",
   "pygments_lexer": "ipython3",
   "version": "3.7.10"
  }
 },
 "nbformat": 4,
 "nbformat_minor": 5
}
