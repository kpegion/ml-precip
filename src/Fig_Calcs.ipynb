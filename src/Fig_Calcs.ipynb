{
 "cells": [
  {
   "cell_type": "code",
   "execution_count": null,
   "id": "c6640de1-82a7-4476-9bf8-ec8bafd11e02",
   "metadata": {},
   "outputs": [],
   "source": [
    "import numpy as np\n",
    "import pandas as pd\n",
    "from scipy import signal\n",
    "import xarray as xr\n",
    "import matplotlib.pyplot as plt\n",
    "import dask\n",
    "import xesmf as xe\n",
    "import proplot as pplt\n",
    "import cartopy.feature as cfeature\n",
    "import xskillscore as xs\n",
    "\n",
    "import warnings\n",
    "warnings.filterwarnings(\"ignore\")"
   ]
  },
  {
   "cell_type": "code",
   "execution_count": null,
   "id": "207a447b-27f8-4d2b-a7cd-9dddaf1700a2",
   "metadata": {},
   "outputs": [],
   "source": [
    "varname='precip'\n",
    "model_types=['cnn_cat'] #,'logmodel_med']\n",
    "#model_types=['logmodel_med']\n",
    "\n",
    "# Define SEUS Region\n",
    "lat_reg=[24.0,36.0]\n",
    "lon_reg=[269.0,283.0]\n",
    "\n",
    "# Define Winter and Summer Months\n",
    "winter=[12,1,2]\n",
    "summer=[6,7,8]"
   ]
  },
  {
   "cell_type": "markdown",
   "id": "3408895b-de29-4011-94a1-58f4b0580bbf",
   "metadata": {},
   "source": [
    "### Read in Precip and Calculate Anomalies"
   ]
  },
  {
   "cell_type": "code",
   "execution_count": null,
   "id": "a732efe0-08b3-405f-a8c5-dd3c39cbd901",
   "metadata": {},
   "outputs": [],
   "source": [
    "files='/shared/ccsm4/khuang/obs/era-interim/era-interim.daily.precip.*.nc'\n",
    "ds=xr.open_mfdataset(files,combine='by_coords')\n",
    "ds_anoms=ds['precip'].groupby('time.dayofyear')-daily_climo(ds['precip'],'precip')\n"
   ]
  },
  {
   "cell_type": "markdown",
   "id": "e68baf6e-eb60-4b65-a3c5-579058ad5e9b",
   "metadata": {},
   "source": [
    "### Read in Predictor Fields"
   ]
  },
  {
   "cell_type": "code",
   "execution_count": null,
   "id": "a3d80056-81bd-4a09-9b63-d7449a5467dc",
   "metadata": {},
   "outputs": [],
   "source": [
    "zfiles='/shared/ccsm4/khuang/obs/era-interim/era-interim.daily.geoheight.*.nc'\n",
    "ufiles='/shared/ccsm4/khuang/obs/era-interim/era-interim.daily.u.*.nc'\n",
    "tfiles='/shared/ccsm4/khuang/obs/era-interim/era-interim.daily.sea.surface.temperature.0.75.x.0.75.1979-2018.nc'\n",
    "olrfiles1='/shared/ccsm4/khuang/obs/era-interim/era-interim.daily.top.net.thermal.radiation.19*s.nc'\n",
    "olrfiles2='/shared/ccsm4/khuang/obs/era-interim/era-interim.daily.top.net.thermal.radiation.20*s.nc'"
   ]
  },
  {
   "cell_type": "code",
   "execution_count": null,
   "id": "98046dd6-86bb-4a3c-b1e5-8ff634883363",
   "metadata": {},
   "outputs": [],
   "source": [
    "ds_z=xr.open_mfdataset(zfiles,combine='by_coords')\n",
    "ds_z500=ds_z.sel(level=500).rename({'z':'z500'})\n",
    "ds_z850=ds_z.sel(level=850).rename({'z':'z850'})"
   ]
  },
  {
   "cell_type": "code",
   "execution_count": null,
   "id": "96cf80f8-97b7-4b52-bab7-3f915ebb3a96",
   "metadata": {},
   "outputs": [],
   "source": [
    "ds_u=xr.open_mfdataset(ufiles,combine='by_coords')\n",
    "ds_u200=ds_u.sel(level=200).rename({'u':'u200'})\n",
    "ds_u850=ds_u.sel(level=850).rename({'u':'u850'})\n",
    "ds_u250=ds_u.sel(level=250).rename({'u':'u250'})"
   ]
  },
  {
   "cell_type": "code",
   "execution_count": null,
   "id": "2cd112cb-78fc-4c1e-983c-dd1c4e4ca14c",
   "metadata": {},
   "outputs": [],
   "source": [
    "ds_sst=xr.open_mfdataset(tfiles,combine='by_coords')"
   ]
  },
  {
   "cell_type": "code",
   "execution_count": null,
   "id": "b35efe69-4ccb-414c-b6ed-38b55c2c541a",
   "metadata": {},
   "outputs": [],
   "source": [
    "ds_olr1=xr.open_mfdataset(olrfiles1,combine='by_coords',combine_attrs='drop_conflicts')\n",
    "ds_olr1['time']=ds_olr1['time'].dt.floor('d')\n",
    "ds_olr2=xr.open_mfdataset(olrfiles2,combine='by_coords')\n",
    "ds_olr=xr.combine_by_coords([ds_olr1,ds_olr2],combine_attrs='drop_conflicts').rename({'ttr':'olr'})"
   ]
  },
  {
   "cell_type": "code",
   "execution_count": null,
   "id": "e6560b36-9dee-4ecc-a8e3-338e320f4e36",
   "metadata": {},
   "outputs": [],
   "source": [
    "new_lon=np.arange(0,360,5)\n",
    "new_lat=np.arange(-90,92,5)\n",
    "\n",
    "ds_out = xr.Dataset({'lat': (['lat'], new_lat),\n",
    "                      'lon': (['lon'], new_lon)})\n",
    "\n",
    "regridder = xe.Regridder(ds_anoms,ds_out,'bilinear',periodic=True)\n",
    "ds_anoms=regridder(ds_anoms)\n",
    "\n",
    "regridder = xe.Regridder(ds_z500,ds_out,'bilinear',periodic=True)\n",
    "ds_z500re=regridder(ds_z500)\n",
    "ds_z850re=regridder(ds_z850)\n",
    "ds_u200re=regridder(ds_u200)\n",
    "ds_u250re=regridder(ds_u250)\n",
    "ds_u850re=regridder(ds_u850)\n",
    "ds_olrre=regridder(ds_olr)\n",
    "\n",
    "regridder_sst = xe.Regridder(ds_sst,ds_out,'bilinear',periodic=True)\n",
    "ds_sstre=regridder_sst(ds_sst).fillna(0.0)"
   ]
  }
 ],
 "metadata": {
  "kernelspec": {
   "display_name": "Python (ml-precip)",
   "language": "python",
   "name": "ml-precip"
  },
  "language_info": {
   "codemirror_mode": {
    "name": "ipython",
    "version": 3
   },
   "file_extension": ".py",
   "mimetype": "text/x-python",
   "name": "python",
   "nbconvert_exporter": "python",
   "pygments_lexer": "ipython3",
   "version": "3.7.10"
  }
 },
 "nbformat": 4,
 "nbformat_minor": 5
}
