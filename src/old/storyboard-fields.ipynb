{
 "cells": [
  {
   "cell_type": "code",
   "execution_count": 2,
   "id": "3b827820-c536-4c10-b62c-a7f28b95bd75",
   "metadata": {
    "iooxa": {
     "id": {
      "block": "Gc1OtwiukxxUOQtNYJkN",
      "project": "ixWGbde11pmE0ozXb9jj",
      "version": 1
     },
     "outputId": {
      "block": "zrLtSQMualc9JyPB8VJm",
      "project": "ixWGbde11pmE0ozXb9jj",
      "version": 1
     }
    }
   },
   "outputs": [],
   "source": [
    "import numpy as np\n",
    "import pandas as pd\n",
    "import xarray as xr\n",
    "import matplotlib.pyplot as plt\n",
    "import dask\n",
    "import xesmf as xe\n",
    "\n",
    "from keras.models import load_model\n",
    "\n",
    "from mlprecip_plot import *"
   ]
  },
  {
   "cell_type": "code",
   "execution_count": 2,
   "id": "b81a3f3d-4635-4bf6-b623-cac3e4a14c15",
   "metadata": {
    "iooxa": {
     "id": {
      "block": "zpjFSQWDlAq8842nF2BY",
      "project": "ixWGbde11pmE0ozXb9jj",
      "version": 1
     },
     "outputId": null
    }
   },
   "outputs": [],
   "source": [
    "def make_cm(ds,mt,title=''):   \n",
    "\n",
    "    ds=ds.sel(model=0,model_type=mt)\n",
    "    \n",
    "    # Get Counts\n",
    "    tp=np.count_nonzero(~np.isnan(ds['pred'].where(np.logical_and(ds['pred']==ds['verif'],ds['pred']==1))))\n",
    "    tn=np.count_nonzero(~np.isnan(ds['pred'].where(np.logical_and(ds['pred']==ds['verif'],ds['pred']==0))))\n",
    "    fp=np.count_nonzero(~np.isnan(ds['pred'].where(np.logical_and(ds['pred']!=ds['verif'],ds['pred']==1))))\n",
    "    fn=np.count_nonzero(~np.isnan(ds['pred'].where(np.logical_and(ds['pred']!=ds['verif'],ds['pred']==0))))\n",
    "    \n",
    "    array=[[fp,tn],\n",
    "           [tp,fn]]\n",
    "    \n",
    "    print('TP: ',tp,' FP: ',fp,' TN: ',tn,' FN: ',fn)\n",
    "    df = pd.DataFrame(array, ['Negative','Positive'], ['Positive','Negative'])\n",
    "\n",
    "    f, ax = pplt.subplots(ncols=1,nrows=1)\n",
    "\n",
    "    ax.heatmap(df,labels=True,cmap='viridis') \n",
    "    ax.format(ylabel='True',xlabel='Predicted')\n",
    "    f.format(suptitle=title)\n",
    "\n",
    "    return"
   ]
  },
  {
   "cell_type": "code",
   "execution_count": 3,
   "id": "93066783-19a8-4486-a040-6a8bf160695b",
   "metadata": {
    "iooxa": {
     "id": {
      "block": "QpNZCUcixc9L1MCNyNZp",
      "project": "ixWGbde11pmE0ozXb9jj",
      "version": 1
     },
     "outputId": null
    }
   },
   "outputs": [],
   "source": [
    "#model_data_fname='../data/cnn/model_output.JJA.nc'\n",
    "model_data_fname='/scratch/kpegion/model_output.JJA.nc'\n",
    "#model_data_fname='/scratch/kpegion/model_output.DJF.nc'\n",
    "varname='precip'\n",
    "#varname='z500'\n"
   ]
  },
  {
   "cell_type": "markdown",
   "id": "318adf6b-c103-478d-b2a0-b7cb992c3cf7",
   "metadata": {
    "iooxa": {
     "id": {
      "block": "CXWyGtuVEJUJeQyvT2cl",
      "project": "ixWGbde11pmE0ozXb9jj",
      "version": 1
     }
    }
   },
   "source": [
    "# Data"
   ]
  },
  {
   "cell_type": "code",
   "execution_count": 4,
   "id": "0b49ec53-5c3a-436e-8197-33b4b74b0eb9",
   "metadata": {
    "iooxa": {
     "id": {
      "block": "SzIIIEeosD8CmU4HrQYC",
      "project": "ixWGbde11pmE0ozXb9jj",
      "version": 1
     },
     "outputId": {
      "block": "3AT0lDqm4jeND9ZgUTqz",
      "project": "ixWGbde11pmE0ozXb9jj",
      "version": 1
     }
    }
   },
   "outputs": [
    {
     "ename": "FileNotFoundError",
     "evalue": "[Errno 2] No such file or directory: b'/scratch/kpegion/model_output.JJA.nc'",
     "output_type": "error",
     "traceback": [
      "\u001b[0;31m---------------------------------------------------------------------------\u001b[0m",
      "\u001b[0;31mKeyError\u001b[0m                                  Traceback (most recent call last)",
      "\u001b[0;32m~/.conda/envs/ml-precip/lib/python3.7/site-packages/xarray/backends/file_manager.py\u001b[0m in \u001b[0;36m_acquire_with_cache_info\u001b[0;34m(self, needs_lock)\u001b[0m\n\u001b[1;32m    198\u001b[0m             \u001b[0;32mtry\u001b[0m\u001b[0;34m:\u001b[0m\u001b[0;34m\u001b[0m\u001b[0;34m\u001b[0m\u001b[0m\n\u001b[0;32m--> 199\u001b[0;31m                 \u001b[0mfile\u001b[0m \u001b[0;34m=\u001b[0m \u001b[0mself\u001b[0m\u001b[0;34m.\u001b[0m\u001b[0m_cache\u001b[0m\u001b[0;34m[\u001b[0m\u001b[0mself\u001b[0m\u001b[0;34m.\u001b[0m\u001b[0m_key\u001b[0m\u001b[0;34m]\u001b[0m\u001b[0;34m\u001b[0m\u001b[0;34m\u001b[0m\u001b[0m\n\u001b[0m\u001b[1;32m    200\u001b[0m             \u001b[0;32mexcept\u001b[0m \u001b[0mKeyError\u001b[0m\u001b[0;34m:\u001b[0m\u001b[0;34m\u001b[0m\u001b[0;34m\u001b[0m\u001b[0m\n",
      "\u001b[0;32m~/.conda/envs/ml-precip/lib/python3.7/site-packages/xarray/backends/lru_cache.py\u001b[0m in \u001b[0;36m__getitem__\u001b[0;34m(self, key)\u001b[0m\n\u001b[1;32m     52\u001b[0m         \u001b[0;32mwith\u001b[0m \u001b[0mself\u001b[0m\u001b[0;34m.\u001b[0m\u001b[0m_lock\u001b[0m\u001b[0;34m:\u001b[0m\u001b[0;34m\u001b[0m\u001b[0;34m\u001b[0m\u001b[0m\n\u001b[0;32m---> 53\u001b[0;31m             \u001b[0mvalue\u001b[0m \u001b[0;34m=\u001b[0m \u001b[0mself\u001b[0m\u001b[0;34m.\u001b[0m\u001b[0m_cache\u001b[0m\u001b[0;34m[\u001b[0m\u001b[0mkey\u001b[0m\u001b[0;34m]\u001b[0m\u001b[0;34m\u001b[0m\u001b[0;34m\u001b[0m\u001b[0m\n\u001b[0m\u001b[1;32m     54\u001b[0m             \u001b[0mself\u001b[0m\u001b[0;34m.\u001b[0m\u001b[0m_cache\u001b[0m\u001b[0;34m.\u001b[0m\u001b[0mmove_to_end\u001b[0m\u001b[0;34m(\u001b[0m\u001b[0mkey\u001b[0m\u001b[0;34m)\u001b[0m\u001b[0;34m\u001b[0m\u001b[0;34m\u001b[0m\u001b[0m\n",
      "\u001b[0;31mKeyError\u001b[0m: [<class 'netCDF4._netCDF4.Dataset'>, ('/scratch/kpegion/model_output.JJA.nc',), 'r', (('clobber', True), ('diskless', False), ('format', 'NETCDF4'), ('persist', False))]",
      "\nDuring handling of the above exception, another exception occurred:\n",
      "\u001b[0;31mFileNotFoundError\u001b[0m                         Traceback (most recent call last)",
      "\u001b[0;32m<ipython-input-4-33fd13a27799>\u001b[0m in \u001b[0;36m<module>\u001b[0;34m\u001b[0m\n\u001b[0;32m----> 1\u001b[0;31m \u001b[0mds_model\u001b[0m\u001b[0;34m=\u001b[0m\u001b[0mxr\u001b[0m\u001b[0;34m.\u001b[0m\u001b[0mopen_dataset\u001b[0m\u001b[0;34m(\u001b[0m\u001b[0mmodel_data_fname\u001b[0m\u001b[0;34m,\u001b[0m\u001b[0mchunks\u001b[0m\u001b[0;34m=\u001b[0m\u001b[0;34m'auto'\u001b[0m\u001b[0;34m)\u001b[0m\u001b[0;34m\u001b[0m\u001b[0;34m\u001b[0m\u001b[0m\n\u001b[0m\u001b[1;32m      2\u001b[0m \u001b[0mds_model\u001b[0m\u001b[0;34m\u001b[0m\u001b[0;34m\u001b[0m\u001b[0m\n",
      "\u001b[0;32m~/.conda/envs/ml-precip/lib/python3.7/site-packages/xarray/backends/api.py\u001b[0m in \u001b[0;36mopen_dataset\u001b[0;34m(filename_or_obj, engine, chunks, cache, decode_cf, mask_and_scale, decode_times, decode_timedelta, use_cftime, concat_characters, decode_coords, drop_variables, backend_kwargs, *args, **kwargs)\u001b[0m\n\u001b[1;32m    499\u001b[0m         \u001b[0mdrop_variables\u001b[0m\u001b[0;34m=\u001b[0m\u001b[0mdrop_variables\u001b[0m\u001b[0;34m,\u001b[0m\u001b[0;34m\u001b[0m\u001b[0;34m\u001b[0m\u001b[0m\n\u001b[1;32m    500\u001b[0m         \u001b[0;34m**\u001b[0m\u001b[0mdecoders\u001b[0m\u001b[0;34m,\u001b[0m\u001b[0;34m\u001b[0m\u001b[0;34m\u001b[0m\u001b[0m\n\u001b[0;32m--> 501\u001b[0;31m         \u001b[0;34m**\u001b[0m\u001b[0mkwargs\u001b[0m\u001b[0;34m,\u001b[0m\u001b[0;34m\u001b[0m\u001b[0;34m\u001b[0m\u001b[0m\n\u001b[0m\u001b[1;32m    502\u001b[0m     )\n\u001b[1;32m    503\u001b[0m     ds = _dataset_from_backend_dataset(\n",
      "\u001b[0;32m~/.conda/envs/ml-precip/lib/python3.7/site-packages/xarray/backends/netCDF4_.py\u001b[0m in \u001b[0;36mopen_dataset\u001b[0;34m(self, filename_or_obj, mask_and_scale, decode_times, concat_characters, decode_coords, drop_variables, use_cftime, decode_timedelta, group, mode, format, clobber, diskless, persist, lock, autoclose)\u001b[0m\n\u001b[1;32m    558\u001b[0m             \u001b[0mpersist\u001b[0m\u001b[0;34m=\u001b[0m\u001b[0mpersist\u001b[0m\u001b[0;34m,\u001b[0m\u001b[0;34m\u001b[0m\u001b[0;34m\u001b[0m\u001b[0m\n\u001b[1;32m    559\u001b[0m             \u001b[0mlock\u001b[0m\u001b[0;34m=\u001b[0m\u001b[0mlock\u001b[0m\u001b[0;34m,\u001b[0m\u001b[0;34m\u001b[0m\u001b[0;34m\u001b[0m\u001b[0m\n\u001b[0;32m--> 560\u001b[0;31m             \u001b[0mautoclose\u001b[0m\u001b[0;34m=\u001b[0m\u001b[0mautoclose\u001b[0m\u001b[0;34m,\u001b[0m\u001b[0;34m\u001b[0m\u001b[0;34m\u001b[0m\u001b[0m\n\u001b[0m\u001b[1;32m    561\u001b[0m         )\n\u001b[1;32m    562\u001b[0m \u001b[0;34m\u001b[0m\u001b[0m\n",
      "\u001b[0;32m~/.conda/envs/ml-precip/lib/python3.7/site-packages/xarray/backends/netCDF4_.py\u001b[0m in \u001b[0;36mopen\u001b[0;34m(cls, filename, mode, format, group, clobber, diskless, persist, lock, lock_maker, autoclose)\u001b[0m\n\u001b[1;32m    378\u001b[0m             \u001b[0mnetCDF4\u001b[0m\u001b[0;34m.\u001b[0m\u001b[0mDataset\u001b[0m\u001b[0;34m,\u001b[0m \u001b[0mfilename\u001b[0m\u001b[0;34m,\u001b[0m \u001b[0mmode\u001b[0m\u001b[0;34m=\u001b[0m\u001b[0mmode\u001b[0m\u001b[0;34m,\u001b[0m \u001b[0mkwargs\u001b[0m\u001b[0;34m=\u001b[0m\u001b[0mkwargs\u001b[0m\u001b[0;34m\u001b[0m\u001b[0;34m\u001b[0m\u001b[0m\n\u001b[1;32m    379\u001b[0m         )\n\u001b[0;32m--> 380\u001b[0;31m         \u001b[0;32mreturn\u001b[0m \u001b[0mcls\u001b[0m\u001b[0;34m(\u001b[0m\u001b[0mmanager\u001b[0m\u001b[0;34m,\u001b[0m \u001b[0mgroup\u001b[0m\u001b[0;34m=\u001b[0m\u001b[0mgroup\u001b[0m\u001b[0;34m,\u001b[0m \u001b[0mmode\u001b[0m\u001b[0;34m=\u001b[0m\u001b[0mmode\u001b[0m\u001b[0;34m,\u001b[0m \u001b[0mlock\u001b[0m\u001b[0;34m=\u001b[0m\u001b[0mlock\u001b[0m\u001b[0;34m,\u001b[0m \u001b[0mautoclose\u001b[0m\u001b[0;34m=\u001b[0m\u001b[0mautoclose\u001b[0m\u001b[0;34m)\u001b[0m\u001b[0;34m\u001b[0m\u001b[0;34m\u001b[0m\u001b[0m\n\u001b[0m\u001b[1;32m    381\u001b[0m \u001b[0;34m\u001b[0m\u001b[0m\n\u001b[1;32m    382\u001b[0m     \u001b[0;32mdef\u001b[0m \u001b[0m_acquire\u001b[0m\u001b[0;34m(\u001b[0m\u001b[0mself\u001b[0m\u001b[0;34m,\u001b[0m \u001b[0mneeds_lock\u001b[0m\u001b[0;34m=\u001b[0m\u001b[0;32mTrue\u001b[0m\u001b[0;34m)\u001b[0m\u001b[0;34m:\u001b[0m\u001b[0;34m\u001b[0m\u001b[0;34m\u001b[0m\u001b[0m\n",
      "\u001b[0;32m~/.conda/envs/ml-precip/lib/python3.7/site-packages/xarray/backends/netCDF4_.py\u001b[0m in \u001b[0;36m__init__\u001b[0;34m(self, manager, group, mode, lock, autoclose)\u001b[0m\n\u001b[1;32m    326\u001b[0m         \u001b[0mself\u001b[0m\u001b[0;34m.\u001b[0m\u001b[0m_group\u001b[0m \u001b[0;34m=\u001b[0m \u001b[0mgroup\u001b[0m\u001b[0;34m\u001b[0m\u001b[0;34m\u001b[0m\u001b[0m\n\u001b[1;32m    327\u001b[0m         \u001b[0mself\u001b[0m\u001b[0;34m.\u001b[0m\u001b[0m_mode\u001b[0m \u001b[0;34m=\u001b[0m \u001b[0mmode\u001b[0m\u001b[0;34m\u001b[0m\u001b[0;34m\u001b[0m\u001b[0m\n\u001b[0;32m--> 328\u001b[0;31m         \u001b[0mself\u001b[0m\u001b[0;34m.\u001b[0m\u001b[0mformat\u001b[0m \u001b[0;34m=\u001b[0m \u001b[0mself\u001b[0m\u001b[0;34m.\u001b[0m\u001b[0mds\u001b[0m\u001b[0;34m.\u001b[0m\u001b[0mdata_model\u001b[0m\u001b[0;34m\u001b[0m\u001b[0;34m\u001b[0m\u001b[0m\n\u001b[0m\u001b[1;32m    329\u001b[0m         \u001b[0mself\u001b[0m\u001b[0;34m.\u001b[0m\u001b[0m_filename\u001b[0m \u001b[0;34m=\u001b[0m \u001b[0mself\u001b[0m\u001b[0;34m.\u001b[0m\u001b[0mds\u001b[0m\u001b[0;34m.\u001b[0m\u001b[0mfilepath\u001b[0m\u001b[0;34m(\u001b[0m\u001b[0;34m)\u001b[0m\u001b[0;34m\u001b[0m\u001b[0;34m\u001b[0m\u001b[0m\n\u001b[1;32m    330\u001b[0m         \u001b[0mself\u001b[0m\u001b[0;34m.\u001b[0m\u001b[0mis_remote\u001b[0m \u001b[0;34m=\u001b[0m \u001b[0mis_remote_uri\u001b[0m\u001b[0;34m(\u001b[0m\u001b[0mself\u001b[0m\u001b[0;34m.\u001b[0m\u001b[0m_filename\u001b[0m\u001b[0;34m)\u001b[0m\u001b[0;34m\u001b[0m\u001b[0;34m\u001b[0m\u001b[0m\n",
      "\u001b[0;32m~/.conda/envs/ml-precip/lib/python3.7/site-packages/xarray/backends/netCDF4_.py\u001b[0m in \u001b[0;36mds\u001b[0;34m(self)\u001b[0m\n\u001b[1;32m    387\u001b[0m     \u001b[0;34m@\u001b[0m\u001b[0mproperty\u001b[0m\u001b[0;34m\u001b[0m\u001b[0;34m\u001b[0m\u001b[0m\n\u001b[1;32m    388\u001b[0m     \u001b[0;32mdef\u001b[0m \u001b[0mds\u001b[0m\u001b[0;34m(\u001b[0m\u001b[0mself\u001b[0m\u001b[0;34m)\u001b[0m\u001b[0;34m:\u001b[0m\u001b[0;34m\u001b[0m\u001b[0;34m\u001b[0m\u001b[0m\n\u001b[0;32m--> 389\u001b[0;31m         \u001b[0;32mreturn\u001b[0m \u001b[0mself\u001b[0m\u001b[0;34m.\u001b[0m\u001b[0m_acquire\u001b[0m\u001b[0;34m(\u001b[0m\u001b[0;34m)\u001b[0m\u001b[0;34m\u001b[0m\u001b[0;34m\u001b[0m\u001b[0m\n\u001b[0m\u001b[1;32m    390\u001b[0m \u001b[0;34m\u001b[0m\u001b[0m\n\u001b[1;32m    391\u001b[0m     \u001b[0;32mdef\u001b[0m \u001b[0mopen_store_variable\u001b[0m\u001b[0;34m(\u001b[0m\u001b[0mself\u001b[0m\u001b[0;34m,\u001b[0m \u001b[0mname\u001b[0m\u001b[0;34m,\u001b[0m \u001b[0mvar\u001b[0m\u001b[0;34m)\u001b[0m\u001b[0;34m:\u001b[0m\u001b[0;34m\u001b[0m\u001b[0;34m\u001b[0m\u001b[0m\n",
      "\u001b[0;32m~/.conda/envs/ml-precip/lib/python3.7/site-packages/xarray/backends/netCDF4_.py\u001b[0m in \u001b[0;36m_acquire\u001b[0;34m(self, needs_lock)\u001b[0m\n\u001b[1;32m    381\u001b[0m \u001b[0;34m\u001b[0m\u001b[0m\n\u001b[1;32m    382\u001b[0m     \u001b[0;32mdef\u001b[0m \u001b[0m_acquire\u001b[0m\u001b[0;34m(\u001b[0m\u001b[0mself\u001b[0m\u001b[0;34m,\u001b[0m \u001b[0mneeds_lock\u001b[0m\u001b[0;34m=\u001b[0m\u001b[0;32mTrue\u001b[0m\u001b[0;34m)\u001b[0m\u001b[0;34m:\u001b[0m\u001b[0;34m\u001b[0m\u001b[0;34m\u001b[0m\u001b[0m\n\u001b[0;32m--> 383\u001b[0;31m         \u001b[0;32mwith\u001b[0m \u001b[0mself\u001b[0m\u001b[0;34m.\u001b[0m\u001b[0m_manager\u001b[0m\u001b[0;34m.\u001b[0m\u001b[0macquire_context\u001b[0m\u001b[0;34m(\u001b[0m\u001b[0mneeds_lock\u001b[0m\u001b[0;34m)\u001b[0m \u001b[0;32mas\u001b[0m \u001b[0mroot\u001b[0m\u001b[0;34m:\u001b[0m\u001b[0;34m\u001b[0m\u001b[0;34m\u001b[0m\u001b[0m\n\u001b[0m\u001b[1;32m    384\u001b[0m             \u001b[0mds\u001b[0m \u001b[0;34m=\u001b[0m \u001b[0m_nc4_require_group\u001b[0m\u001b[0;34m(\u001b[0m\u001b[0mroot\u001b[0m\u001b[0;34m,\u001b[0m \u001b[0mself\u001b[0m\u001b[0;34m.\u001b[0m\u001b[0m_group\u001b[0m\u001b[0;34m,\u001b[0m \u001b[0mself\u001b[0m\u001b[0;34m.\u001b[0m\u001b[0m_mode\u001b[0m\u001b[0;34m)\u001b[0m\u001b[0;34m\u001b[0m\u001b[0;34m\u001b[0m\u001b[0m\n\u001b[1;32m    385\u001b[0m         \u001b[0;32mreturn\u001b[0m \u001b[0mds\u001b[0m\u001b[0;34m\u001b[0m\u001b[0;34m\u001b[0m\u001b[0m\n",
      "\u001b[0;32m~/.conda/envs/ml-precip/lib/python3.7/contextlib.py\u001b[0m in \u001b[0;36m__enter__\u001b[0;34m(self)\u001b[0m\n\u001b[1;32m    110\u001b[0m         \u001b[0;32mdel\u001b[0m \u001b[0mself\u001b[0m\u001b[0;34m.\u001b[0m\u001b[0margs\u001b[0m\u001b[0;34m,\u001b[0m \u001b[0mself\u001b[0m\u001b[0;34m.\u001b[0m\u001b[0mkwds\u001b[0m\u001b[0;34m,\u001b[0m \u001b[0mself\u001b[0m\u001b[0;34m.\u001b[0m\u001b[0mfunc\u001b[0m\u001b[0;34m\u001b[0m\u001b[0;34m\u001b[0m\u001b[0m\n\u001b[1;32m    111\u001b[0m         \u001b[0;32mtry\u001b[0m\u001b[0;34m:\u001b[0m\u001b[0;34m\u001b[0m\u001b[0;34m\u001b[0m\u001b[0m\n\u001b[0;32m--> 112\u001b[0;31m             \u001b[0;32mreturn\u001b[0m \u001b[0mnext\u001b[0m\u001b[0;34m(\u001b[0m\u001b[0mself\u001b[0m\u001b[0;34m.\u001b[0m\u001b[0mgen\u001b[0m\u001b[0;34m)\u001b[0m\u001b[0;34m\u001b[0m\u001b[0;34m\u001b[0m\u001b[0m\n\u001b[0m\u001b[1;32m    113\u001b[0m         \u001b[0;32mexcept\u001b[0m \u001b[0mStopIteration\u001b[0m\u001b[0;34m:\u001b[0m\u001b[0;34m\u001b[0m\u001b[0;34m\u001b[0m\u001b[0m\n\u001b[1;32m    114\u001b[0m             \u001b[0;32mraise\u001b[0m \u001b[0mRuntimeError\u001b[0m\u001b[0;34m(\u001b[0m\u001b[0;34m\"generator didn't yield\"\u001b[0m\u001b[0;34m)\u001b[0m \u001b[0;32mfrom\u001b[0m \u001b[0;32mNone\u001b[0m\u001b[0;34m\u001b[0m\u001b[0;34m\u001b[0m\u001b[0m\n",
      "\u001b[0;32m~/.conda/envs/ml-precip/lib/python3.7/site-packages/xarray/backends/file_manager.py\u001b[0m in \u001b[0;36macquire_context\u001b[0;34m(self, needs_lock)\u001b[0m\n\u001b[1;32m    185\u001b[0m     \u001b[0;32mdef\u001b[0m \u001b[0macquire_context\u001b[0m\u001b[0;34m(\u001b[0m\u001b[0mself\u001b[0m\u001b[0;34m,\u001b[0m \u001b[0mneeds_lock\u001b[0m\u001b[0;34m=\u001b[0m\u001b[0;32mTrue\u001b[0m\u001b[0;34m)\u001b[0m\u001b[0;34m:\u001b[0m\u001b[0;34m\u001b[0m\u001b[0;34m\u001b[0m\u001b[0m\n\u001b[1;32m    186\u001b[0m         \u001b[0;34m\"\"\"Context manager for acquiring a file.\"\"\"\u001b[0m\u001b[0;34m\u001b[0m\u001b[0;34m\u001b[0m\u001b[0m\n\u001b[0;32m--> 187\u001b[0;31m         \u001b[0mfile\u001b[0m\u001b[0;34m,\u001b[0m \u001b[0mcached\u001b[0m \u001b[0;34m=\u001b[0m \u001b[0mself\u001b[0m\u001b[0;34m.\u001b[0m\u001b[0m_acquire_with_cache_info\u001b[0m\u001b[0;34m(\u001b[0m\u001b[0mneeds_lock\u001b[0m\u001b[0;34m)\u001b[0m\u001b[0;34m\u001b[0m\u001b[0;34m\u001b[0m\u001b[0m\n\u001b[0m\u001b[1;32m    188\u001b[0m         \u001b[0;32mtry\u001b[0m\u001b[0;34m:\u001b[0m\u001b[0;34m\u001b[0m\u001b[0;34m\u001b[0m\u001b[0m\n\u001b[1;32m    189\u001b[0m             \u001b[0;32myield\u001b[0m \u001b[0mfile\u001b[0m\u001b[0;34m\u001b[0m\u001b[0;34m\u001b[0m\u001b[0m\n",
      "\u001b[0;32m~/.conda/envs/ml-precip/lib/python3.7/site-packages/xarray/backends/file_manager.py\u001b[0m in \u001b[0;36m_acquire_with_cache_info\u001b[0;34m(self, needs_lock)\u001b[0m\n\u001b[1;32m    203\u001b[0m                     \u001b[0mkwargs\u001b[0m \u001b[0;34m=\u001b[0m \u001b[0mkwargs\u001b[0m\u001b[0;34m.\u001b[0m\u001b[0mcopy\u001b[0m\u001b[0;34m(\u001b[0m\u001b[0;34m)\u001b[0m\u001b[0;34m\u001b[0m\u001b[0;34m\u001b[0m\u001b[0m\n\u001b[1;32m    204\u001b[0m                     \u001b[0mkwargs\u001b[0m\u001b[0;34m[\u001b[0m\u001b[0;34m\"mode\"\u001b[0m\u001b[0;34m]\u001b[0m \u001b[0;34m=\u001b[0m \u001b[0mself\u001b[0m\u001b[0;34m.\u001b[0m\u001b[0m_mode\u001b[0m\u001b[0;34m\u001b[0m\u001b[0;34m\u001b[0m\u001b[0m\n\u001b[0;32m--> 205\u001b[0;31m                 \u001b[0mfile\u001b[0m \u001b[0;34m=\u001b[0m \u001b[0mself\u001b[0m\u001b[0;34m.\u001b[0m\u001b[0m_opener\u001b[0m\u001b[0;34m(\u001b[0m\u001b[0;34m*\u001b[0m\u001b[0mself\u001b[0m\u001b[0;34m.\u001b[0m\u001b[0m_args\u001b[0m\u001b[0;34m,\u001b[0m \u001b[0;34m**\u001b[0m\u001b[0mkwargs\u001b[0m\u001b[0;34m)\u001b[0m\u001b[0;34m\u001b[0m\u001b[0;34m\u001b[0m\u001b[0m\n\u001b[0m\u001b[1;32m    206\u001b[0m                 \u001b[0;32mif\u001b[0m \u001b[0mself\u001b[0m\u001b[0;34m.\u001b[0m\u001b[0m_mode\u001b[0m \u001b[0;34m==\u001b[0m \u001b[0;34m\"w\"\u001b[0m\u001b[0;34m:\u001b[0m\u001b[0;34m\u001b[0m\u001b[0;34m\u001b[0m\u001b[0m\n\u001b[1;32m    207\u001b[0m                     \u001b[0;31m# ensure file doesn't get overriden when opened again\u001b[0m\u001b[0;34m\u001b[0m\u001b[0;34m\u001b[0m\u001b[0;34m\u001b[0m\u001b[0m\n",
      "\u001b[0;32msrc/netCDF4/_netCDF4.pyx\u001b[0m in \u001b[0;36mnetCDF4._netCDF4.Dataset.__init__\u001b[0;34m()\u001b[0m\n",
      "\u001b[0;32msrc/netCDF4/_netCDF4.pyx\u001b[0m in \u001b[0;36mnetCDF4._netCDF4._ensure_nc_success\u001b[0;34m()\u001b[0m\n",
      "\u001b[0;31mFileNotFoundError\u001b[0m: [Errno 2] No such file or directory: b'/scratch/kpegion/model_output.JJA.nc'"
     ]
    }
   ],
   "source": [
    "ds_model=xr.open_dataset(model_data_fname,chunks='auto')\n",
    "ds_model"
   ]
  },
  {
   "cell_type": "code",
   "execution_count": null,
   "id": "0d96ac06-e928-4bbf-8503-6ed7517273d8",
   "metadata": {
    "iooxa": {
     "id": {
      "block": "rnTjVmsGAM5vHeOwEc0q",
      "project": "ixWGbde11pmE0ozXb9jj",
      "version": 1
     },
     "outputId": null
    }
   },
   "outputs": [],
   "source": [
    "ds_model['lrp']=ds_model['lrp']/ds_model['lrp'].std(['lat','lon'],skipna=True)"
   ]
  },
  {
   "cell_type": "markdown",
   "id": "535cbe85-3cfb-465f-a5ed-10467648f890",
   "metadata": {
    "iooxa": {
     "id": {
      "block": "M0vAOn3VA95hBOaa8s8E",
      "project": "ixWGbde11pmE0ozXb9jj",
      "version": 1
     }
    }
   },
   "source": [
    "#ds=ds_model['lrp'].sel(model_type='cnn_cat',rules='lrp.alpha_1_beta_0')\n",
    "ds_mean=ds_model['lrp'].mean(dim=['time','model'],skipna=True)\n",
    "ds_max=ds_model['lrp'].max(dim=['lat','lon','var'],skipna=True)\n",
    "ds_model['lrp']=xr.where(np.abs(ds_max)>1e-8,ds_model['lrp']/ds_max,np.nan)\n",
    "ds_model"
   ]
  },
  {
   "cell_type": "code",
   "execution_count": null,
   "id": "a637d814-2fdd-437b-98af-4baab39080b3",
   "metadata": {
    "iooxa": {
     "id": {
      "block": "34yJ7qNzCtoSC7ucsXst",
      "project": "ixWGbde11pmE0ozXb9jj",
      "version": 1
     },
     "outputId": null
    }
   },
   "outputs": [],
   "source": [
    "# train=0,test=1\n",
    "train_test=np.zeros((len(ds_model['time'])))\n",
    "train_test[2870::]=1\n",
    "da_tt=xr.DataArray(train_test,coords={'time':ds_model['time']},dims=['time']).to_dataset(name='tt')\n",
    "ds_model=xr.merge([da_tt,ds_model],compat='override')"
   ]
  },
  {
   "cell_type": "code",
   "execution_count": null,
   "id": "ac3afa2a-19c0-453f-8cc1-b8abbb07e230",
   "metadata": {
    "iooxa": {
     "id": {
      "block": "TT2ZZC70ofpYWCJk4cek",
      "project": "ixWGbde11pmE0ozXb9jj",
      "version": 1
     },
     "outputId": {
      "block": "3LhZKoFm5cLCCmbgEeI0",
      "project": "ixWGbde11pmE0ozXb9jj",
      "version": 1
     }
    }
   },
   "outputs": [],
   "source": [
    "ds_model"
   ]
  },
  {
   "cell_type": "markdown",
   "id": "2d04648c-d44d-4737-a76e-ddc2f8b8c538",
   "metadata": {
    "iooxa": {
     "id": {
      "block": "OD1c7TXQLOwkIVMyRKWB",
      "project": "ixWGbde11pmE0ozXb9jj",
      "version": 1
     }
    }
   },
   "source": [
    "# Forecasts"
   ]
  },
  {
   "cell_type": "code",
   "execution_count": null,
   "id": "743877b4-574e-4d1c-9160-4552d3c93979",
   "metadata": {
    "iooxa": {
     "id": {
      "block": "xA6IK70QzsCm5a8AHHRF",
      "project": "ixWGbde11pmE0ozXb9jj",
      "version": 1
     },
     "outputId": {
      "block": "eygndCuKzv9tQBvZtjJa",
      "project": "ixWGbde11pmE0ozXb9jj",
      "version": 1
     }
    }
   },
   "outputs": [],
   "source": [
    "f,axs=pplt.subplots(ncols=1,nrows=len(ds_model['model_type'].values),figsize=(5.5,4.25))\n",
    "\n",
    "\n",
    "for (ax,mtype,l) in zip(axs,ds_model['model_type'].values,['CNN']):\n",
    "    print(mtype,l)\n",
    "    hs=[]\n",
    "    \n",
    "    # Select the model type\n",
    "    ds=ds_model.sel(model_type=mtype,rules='lrp.alpha_1_beta_0')\n",
    "    print(ds)\n",
    "    da=ds[varname]\n",
    "    da_pred=ds['pred'].sel(model=0)\n",
    "    da_verif=ds['verif'].sel(model=0)\n",
    "    thresh=np.percentile(da,50)\n",
    "    \n",
    "    # Plot gray where fcsts are not correct\n",
    "    tmp=da.where(da_pred!=da_verif)\n",
    "    h=ax.plot(tmp['time'].values,tmp.values,color='gray',marker='.',markersize=8,linestyle='None')\n",
    "    hs.append(h)\n",
    "    \n",
    "    # Plot correct positive forecasts in green\n",
    "    tmp=da.where(np.logical_and(da_pred==da_verif,da>=thresh))\n",
    "    h=ax.plot(tmp['time'].values,tmp.values,'g.',markersize=8,linestyle='None')\n",
    "    hs.append(h)\n",
    "    \n",
    "    # Plot correct negative forecasts in brown\n",
    "    tmp=da.where(np.logical_and(da_pred==da_verif,da<thresh))\n",
    "    h=ax.plot(tmp['time'].values,tmp.values,color='brown',marker='.',markersize=8,linestyle='None')\n",
    "    hs.append(h)\n",
    "\n",
    "    # Draw median line\n",
    "    ax.axhline(thresh,color='k')\n",
    "    \n",
    "    # Highlight test data\n",
    "    ax.axvspan(ds_model['time'][2944].values, ds_model['time'][-1].values, color='gray', alpha=0.5)\n",
    "    \n",
    "    # Format subplot panel\n",
    "    ax.format(title=l,abc=True)\n",
    "    \n",
    "    # Add custom legend\n",
    "    ax.legend(hs, labels=['Incorrect Forecast', 'Correct Forecast >0','Correct Forecast <0'],ncols=1, loc='ul') \n",
    "    \n",
    "    # Add text indicating accuracy of this model for test and train\n",
    "    train_str='Training Accuracy: '+str(int(ds['acc'].sel(model=0)*100))+'%'\n",
    "    test_str='Test Accuracy: '+str(int(ds['val_acc'].sel(model=0)*100))+'%'\n",
    "    ax.text(pd.to_datetime('1992-01-01'),15,train_str,transform='data')\n",
    "    ax.text(pd.to_datetime('2009-01-01'),15,test_str,transform='data')\n",
    "\n",
    "# Figure labels\n",
    "f.format(xlabel='', ylabel='Anomaly',suptitle='SEUS JJA')\n",
    "\n",
    "del ds, da_pred, da_verif, da\n"
   ]
  },
  {
   "cell_type": "markdown",
   "id": "4a8b703a-aa3c-4b05-b663-36974b3771a3",
   "metadata": {
    "iooxa": {
     "id": {
      "block": "rhSLepap0xtFpMA2aed8",
      "project": "ixWGbde11pmE0ozXb9jj",
      "version": 1
     }
    }
   },
   "source": [
    "# Accuracy"
   ]
  },
  {
   "cell_type": "code",
   "execution_count": null,
   "id": "ad642006-eb97-4e4d-a32e-e56c20114d75",
   "metadata": {
    "iooxa": {
     "id": {
      "block": "lLZFIImBVnzL4QmwlWEy",
      "project": "ixWGbde11pmE0ozXb9jj",
      "version": 1
     },
     "outputId": {
      "block": "BuqyQYUwa5AOCDbjwNE5",
      "project": "ixWGbde11pmE0ozXb9jj",
      "version": 1
     }
    }
   },
   "outputs": [],
   "source": [
    "hist_bins=np.arange(40,100,5)\n",
    "f,axs=pplt.subplots(ncols=1,nrows=len(ds_model['model_type'].values),figsize=(8.5,11))\n",
    "\n",
    "for ax,mtype,l in zip(axs,ds_model['model_type'].values,['Neural Network']):\n",
    "\n",
    "    hs=[]\n",
    "    \n",
    "    # Select the model type\n",
    "    ds=ds_model.sel(model_type=mtype)\n",
    "       \n",
    "    h=ax.hist(ds['acc'].values*100,hist_bins,edgecolor='k',color='b',alpha=0.6)\n",
    "    hs.append(h)\n",
    "    \n",
    "    h=ax.hist(ds['val_acc'].values*100,hist_bins,edgecolor='k',color='g',alpha=0.6)\n",
    "    hs.append(h)\n",
    "    \n",
    "    # Format subplot panel\n",
    "    ax.format(title=l,abc=True)\n",
    "\n",
    "# Add custom legend\n",
    "axs[0,0].legend(hs, labels=['Train','Test'],ncols=1, loc='ur') \n",
    "\n",
    "del ds"
   ]
  },
  {
   "cell_type": "markdown",
   "id": "45d361c9-4292-4b32-97de-cc609020abaa",
   "metadata": {
    "iooxa": {
     "id": {
      "block": "FgUmOaPdDYRCwW0zQ7h5",
      "project": "ixWGbde11pmE0ozXb9jj",
      "version": 1
     }
    }
   },
   "source": [
    "# Contingency Table"
   ]
  },
  {
   "cell_type": "code",
   "execution_count": null,
   "id": "88a9d2be-9ffe-459c-b148-da878a1460e6",
   "metadata": {
    "iooxa": {
     "id": {
      "block": "KZFg3Z6ENcH2G0ziX8nv",
      "project": "ixWGbde11pmE0ozXb9jj",
      "version": 1
     },
     "outputId": {
      "block": "LuFpydeTH17QJJI5QeiA",
      "project": "ixWGbde11pmE0ozXb9jj",
      "version": 1
     }
    }
   },
   "outputs": [],
   "source": [
    "for i,t in zip(ds_model['model_type'].values,['CNN']):\n",
    "    make_cm(ds_model,i,title=t)"
   ]
  },
  {
   "cell_type": "code",
   "execution_count": null,
   "id": "c6746b75-8596-46d9-96a4-5375695b8b6b",
   "metadata": {
    "iooxa": {
     "id": {
      "block": "MKTOLK2e1VYFHPNVpTMA",
      "project": "ixWGbde11pmE0ozXb9jj",
      "version": 1
     },
     "outputId": {
      "block": "urtojg1mIykhTvrdVJTJ",
      "project": "ixWGbde11pmE0ozXb9jj",
      "version": 1
     }
    },
    "tags": []
   },
   "outputs": [],
   "source": [
    "f, axs = pplt.subplots(ncols=len(ds_model['model_type'].values),nrows=len(ds_model['cat'].values))\n",
    "\n",
    "rel_bins=np.arange(0,1.1,0.1)\n",
    "   \n",
    "\n",
    "for j,(mtype,l) in enumerate(zip(ds_model['model_type'].values,['CNN'])): \n",
    "    \n",
    "    # Select the model\n",
    "    ds=ds_model.sel(model_type=mtype)\n",
    "    ds_train=xr.where(ds['tt']==0,ds,np.nan)\n",
    "    ds_test=xr.where(ds['tt']==1,ds,np.nan)\n",
    "    \n",
    "    \n",
    "    for i,cat in enumerate(ds['cat'].values):\n",
    "        \n",
    "        hs=[]\n",
    "        \n",
    "        # Calculate reliability\n",
    "        rel_train=xs.reliability(ds_train['verif']==i,ds_train['probs'].sel(cat=cat),dim=['model','time'],\n",
    "                                 probability_bin_edges=rel_bins)\n",
    "        rel_test=xs.reliability(ds_test['verif']==i,ds_test['probs'].sel(cat=cat),dim=['model','time'],\n",
    "                                 probability_bin_edges=rel_bins)\n",
    "        \n",
    "        # Plot reliability\n",
    "        \n",
    "        h=axs[i,j].plot(rel_train['forecast_probability'].values,rel_train.values,'b')\n",
    "        axs[i,j].plot(rel_train['forecast_probability'].values,rel_train.values,'b.')\n",
    "        hs.append(h)\n",
    "        \n",
    "        h=axs[i,j].plot(rel_test['forecast_probability'].values,rel_test.values,'g')\n",
    "        axs[i,j].plot(rel_test['forecast_probability'].values,rel_test.values,'g.')\n",
    "        hs.append(h)\n",
    "        \n",
    "        axs[i,j].format(xtickminor=True,ytickminor=True,title=l+': '+cat,\n",
    "                        xlabel='Forecast Probability',ylabel='Observed Probability',\n",
    "                        abc=True)\n",
    "        \n",
    "        # Perfect reliability line\n",
    "        axs[i,j].plot(rel_bins,rel_bins,'k')\n",
    "        \n",
    "        # Histogram inset\n",
    "        axi = axs[i,j].inset([0.125, 0.8, 0.4, 0.2], transform='data',zoom=False)\n",
    "        axi.bar(rel_train['samples'].values,color='b')\n",
    "        axi.bar(rel_test['samples'].values,color='g')\n",
    "\n",
    "        axi.format(xtickminor=True,ytickminor=True,fontsize=6)\n",
    "        \n",
    "    # Add custom legend\n",
    "    axs[1,0].legend(hs, labels=['Train','Test'],ncols=1, loc='ur')\n",
    "    \n",
    "    del ds, ds_train, ds_test, rel_train, rel_test\n"
   ]
  },
  {
   "cell_type": "code",
   "execution_count": null,
   "id": "d36ab7da-e4ed-4836-9b92-d4111edcdb66",
   "metadata": {
    "iooxa": {
     "id": {
      "block": "NH0qNxqlbDjE8fVwwiWQ",
      "project": "ixWGbde11pmE0ozXb9jj",
      "version": 1
     },
     "outputId": null
    }
   },
   "outputs": [],
   "source": [
    "tfiles='/shared/ccsm4/khuang/obs/era-interim/era-interim.daily.sea.surface.temperature.0.75.x.0.75.1979-2018.nc'\n",
    "zfiles='/shared/ccsm4/khuang/obs/era-interim/era-interim.daily.geoheight.*.nc'\n",
    "ufiles='/shared/ccsm4/khuang/obs/era-interim/era-interim.daily.u.*.nc'\n",
    "\n",
    "# Z500 and Z850\n",
    "ds_z=xr.open_mfdataset(zfiles,combine='by_coords')\n",
    "ds_z500=ds_z.sel(level=500).rename({'z':'z500'})\n",
    "ds_z850=ds_z.sel(level=850).rename({'z':'z850'})\n",
    "\n",
    "# U200 and U850\n",
    "ds_u=xr.open_mfdataset(ufiles,combine='by_coords')\n",
    "ds_u200=ds_u.sel(level=200).rename({'u':'u200'})\n",
    "ds_u850=ds_u.sel(level=850).rename({'u':'u850'})\n",
    "\n",
    "# SST\n",
    "ds_sst=xr.open_mfdataset(tfiles,combine='by_coords')\n",
    "\n",
    "# OLR\n",
    "olrfiles1='/shared/ccsm4/khuang/obs/era-interim/era-interim.daily.top.net.thermal.radiation.19*s.nc'\n",
    "olrfiles2='/shared/ccsm4/khuang/obs/era-interim/era-interim.daily.top.net.thermal.radiation.20*s.nc'\n",
    "ds_olr1=xr.open_mfdataset(olrfiles1,combine='by_coords',combine_attrs='drop_conflicts')\n",
    "ds_olr1['time']=ds_olr1['time'].dt.floor('d')\n",
    "ds_olr2=xr.open_mfdataset(olrfiles2,combine='by_coords')\n",
    "ds_olr=xr.combine_by_coords([ds_olr1,ds_olr2],combine_attrs='drop_conflicts').rename({'ttr':'olr'})\n",
    "ds_olr['olr']=ds_olr['olr']*-1\n",
    "\n"
   ]
  },
  {
   "cell_type": "code",
   "execution_count": null,
   "id": "b3e56091-aede-4d97-92db-d5bf6891493f",
   "metadata": {
    "iooxa": {
     "id": {
      "block": "9HzlK8w3sJEPX9NUEkFk",
      "project": "ixWGbde11pmE0ozXb9jj",
      "version": 1
     },
     "outputId": null
    }
   },
   "outputs": [],
   "source": [
    "# Coarse Grain Data\n",
    "new_lon=np.arange(0,360,5)\n",
    "new_lat=np.arange(-90,92,5)\n",
    "\n",
    "ds_out = xr.Dataset({'lat': (['lat'], new_lat),\n",
    "                      'lon': (['lon'], new_lon)})\n",
    "\n",
    "regridder = xe.Regridder(ds_z500,ds_out,'bilinear',periodic=True)\n",
    "ds_z500=regridder(ds_z500)\n",
    "ds_z850=regridder(ds_z850)\n",
    "ds_olr=regridder(ds_olr)\n",
    "ds_u200=regridder(ds_u200)\n",
    "ds_u850=regridder(ds_u850)\n",
    "\n",
    "regridder_sst = xe.Regridder(ds_sst,ds_out,'bilinear',periodic=True)\n",
    "ds_sst=regridder_sst(ds_sst)"
   ]
  },
  {
   "cell_type": "code",
   "execution_count": null,
   "id": "c5a31a1e-d624-4a61-903f-1a66a2a5d146",
   "metadata": {
    "iooxa": {
     "id": {
      "block": "jk7LHbvaBSPvPV8raXlu",
      "project": "ixWGbde11pmE0ozXb9jj",
      "version": 1
     },
     "outputId": null
    }
   },
   "outputs": [],
   "source": [
    "ds=xr.merge([ds_sst,ds_z500,ds_z850,ds_olr,ds_u200,ds_u850],compat='override')\n",
    "ds_anoms=ds.groupby('time.dayofyear')-ds.groupby('time.dayofyear').mean()\n"
   ]
  },
  {
   "cell_type": "markdown",
   "id": "fab1542a-93e2-48cf-8d5d-55eb04484dfa",
   "metadata": {
    "iooxa": {
     "id": {
      "block": "vRa7rolF7Ub9ZqJtYiXO",
      "project": "ixWGbde11pmE0ozXb9jj",
      "version": 1
     }
    }
   },
   "source": [
    "# Contribution of Predictors"
   ]
  },
  {
   "cell_type": "markdown",
   "id": "08d9b547-1b1f-4013-8ea3-d0b9e22983b8",
   "metadata": {
    "iooxa": {
     "id": {
      "block": "SI4pphFo7EywbXmm3SvD",
      "project": "ixWGbde11pmE0ozXb9jj",
      "version": 1
     }
    }
   },
   "source": [
    "### Mean Relevance"
   ]
  },
  {
   "cell_type": "code",
   "execution_count": null,
   "id": "ac644e3e-4365-4cc8-83ad-cf15658ba661",
   "metadata": {
    "iooxa": {
     "id": {
      "block": "mQ7BOJZtTD3b6QhaaUFo",
      "project": "ixWGbde11pmE0ozXb9jj",
      "version": 1
     },
     "outputId": null
    }
   },
   "outputs": [],
   "source": [
    "plotLRP_map(ds_model,['time','model'],'lrp.alpha_1_beta_0',cm='mako')\n"
   ]
  },
  {
   "cell_type": "markdown",
   "id": "db628da8-d5c2-4c15-92b3-95998492d340",
   "metadata": {
    "iooxa": {
     "id": {
      "block": "jHQA0Li4Qv5ZIwVkPIfo",
      "project": "ixWGbde11pmE0ozXb9jj",
      "version": 1
     }
    }
   },
   "source": [
    "### True Negative Relevance"
   ]
  },
  {
   "cell_type": "code",
   "execution_count": null,
   "id": "eb280628-d5a2-4fa5-a05d-8030bdf207a1",
   "metadata": {
    "iooxa": {
     "id": {
      "block": "2H53l9eA1Roo766z4hSn",
      "project": "ixWGbde11pmE0ozXb9jj",
      "version": 1
     },
     "outputId": null
    }
   },
   "outputs": [],
   "source": [
    "confidence_thresh=0.8\n",
    "fcsts=ds_model.where(np.logical_and(ds_model['pred']==ds_model['verif'],\n",
    "                                    ds_model['probs'].sel(cat='Lower')>=confidence_thresh)).sel(model_type='cnn_cat')\n",
    "count_str=str(int(np.count_nonzero(~np.isnan(fcsts['probs'].sel(cat='Lower')))))\n",
    "print(count_str)\n",
    "\n",
    "plotLRP_map(fcsts,['time','model'],'lrp.alpha_1_beta_0',cm='mako')"
   ]
  },
  {
   "cell_type": "code",
   "execution_count": null,
   "id": "b83e052e-bddb-44bb-ac55-1539b42aa789",
   "metadata": {
    "iooxa": {
     "id": {
      "block": "Jc2ZsCp4v6Pc3jHaL2mH",
      "project": "ixWGbde11pmE0ozXb9jj",
      "version": 1
     },
     "outputId": null
    }
   },
   "outputs": [],
   "source": [
    "ds_comp=ds_anoms.where(np.logical_and(ds_model['pred']==ds_model['verif'],\n",
    "                                      ds_model['probs'].sel(cat='Lower')>=confidence_thresh)).sel(model_type='cnn_cat').mean(dim=['time','model'])"
   ]
  },
  {
   "cell_type": "code",
   "execution_count": null,
   "id": "8beddd8e-5afa-44fa-b1a8-57e8b51a9a17",
   "metadata": {
    "iooxa": {
     "id": {
      "block": "ovlSIFLOjFtiheDBRPe6",
      "project": "ixWGbde11pmE0ozXb9jj",
      "version": 1
     },
     "outputId": null
    }
   },
   "outputs": [],
   "source": [
    "levs_sst=np.arange(-1,1.1,0.1)\n",
    "levs_z500=np.arange(-700,700,50)\n",
    "levs_z850=np.arange(-400,450,50)\n",
    "levs_olr=np.arange(-14,15,2)\n",
    "levs_u200=np.arange(-10,12,2)\n",
    "levs_u850=np.arange(-10,12,2)\n",
    "clevs=[levs_sst,levs_z500,levs_z850,levs_olr,levs_u200,levs_u850]\n"
   ]
  },
  {
   "cell_type": "code",
   "execution_count": null,
   "id": "2dfa4e91-94cd-4966-b5d4-a47b5eaa218d",
   "metadata": {
    "iooxa": {
     "id": {
      "block": "qrAfTG4CPOG44GIM9AFe",
      "project": "ixWGbde11pmE0ozXb9jj",
      "version": 1
     },
     "outputId": null
    },
    "tags": []
   },
   "outputs": [],
   "source": [
    "lon_0=290\n",
    "f, axs = pplt.subplots(ncols=2, nrows=3,\n",
    "                       proj=['robin','npstere','npstere','robin','robin','robin'],proj_kw={'lon_0': lon_0},\n",
    "                      width=8.5,height=11)\n",
    "\n",
    "for i,(ax,v) in enumerate(zip(axs,list(ds.keys()))):\n",
    "    m=ax.contourf(ds_comp['lon'],ds_comp['lat'],ds_comp[v],levels=clevs[i],extend='both')\n",
    "    ax.format(coast=True,grid=True,lonlabels='b', latlabels='l',title=v,abc=True)\n",
    "    ax.colorbar(m)"
   ]
  },
  {
   "cell_type": "markdown",
   "id": "4ea934b8-c5fa-48f7-ab3a-a472a8654f41",
   "metadata": {
    "iooxa": {
     "id": {
      "block": "sEC1TWUOthRZCEP4fxwx",
      "project": "ixWGbde11pmE0ozXb9jj",
      "version": 1
     }
    }
   },
   "source": [
    "### True Positive Relevance"
   ]
  },
  {
   "cell_type": "code",
   "execution_count": null,
   "id": "0778a8ef-4f48-4d5b-88c0-6f5ceb557b52",
   "metadata": {
    "iooxa": {
     "id": {
      "block": "6u9zXeEOlw8r10nE7372",
      "project": "ixWGbde11pmE0ozXb9jj",
      "version": 1
     },
     "outputId": null
    }
   },
   "outputs": [],
   "source": [
    "confidence_thresh=0.8\n",
    "fcsts=ds_model.where(np.logical_and(ds_model['pred']==ds_model['verif'],\n",
    "                                    ds_model['probs'].sel(cat='Upper')>=confidence_thresh)).sel(model_type='cnn_cat')\n",
    "count_str=str(int(np.count_nonzero(~np.isnan(fcsts['probs'].sel(cat='Upper')))))\n",
    "print(count_str)\n",
    "\n",
    "plotLRP_map(fcsts,['time','model'],'lrp.alpha_1_beta_0',cm='mako')"
   ]
  },
  {
   "cell_type": "code",
   "execution_count": null,
   "id": "76401a9c-3014-450f-a462-b0df17d13db3",
   "metadata": {
    "iooxa": {
     "id": {
      "block": "X8CZsxPIuAImWEdT2Tho",
      "project": "ixWGbde11pmE0ozXb9jj",
      "version": 1
     },
     "outputId": null
    }
   },
   "outputs": [],
   "source": [
    "ds_comp=ds_anoms.where(np.logical_and(ds_model['pred']==ds_model['verif'],\n",
    "                                      ds_model['probs'].sel(cat='Upper')>=confidence_thresh)).sel(model_type='cnn_cat').mean(dim=['time','model'])\n"
   ]
  },
  {
   "cell_type": "code",
   "execution_count": null,
   "id": "9c6fd2f2-5664-4ada-b582-2d89e93a7a92",
   "metadata": {
    "iooxa": {
     "id": {
      "block": "TTLNmb8y6I6kNsgnieC9",
      "project": "ixWGbde11pmE0ozXb9jj",
      "version": 1
     },
     "outputId": null
    }
   },
   "outputs": [],
   "source": [
    "lon_0=290\n",
    "f, axs = pplt.subplots(ncols=2, nrows=3,\n",
    "                        proj=['robin','npstere','npstere','robin','robin','robin'],proj_kw={'lon_0': lon_0},\n",
    "                      width=8.5,height=11)\n",
    "\n",
    "\n",
    "for i,(ax,v) in enumerate(zip(axs,list(ds.keys()))):\n",
    "    m=ax.contourf(ds_comp['lon'],ds_comp['lat'],ds_comp[v],levels=clevs[i],extend='both')\n",
    "    ax.format(coast=True,grid=True,lonlabels='b', latlabels='l',title=v,abc=True)\n",
    "    ax.colorbar(m)"
   ]
  },
  {
   "cell_type": "markdown",
   "id": "1a32da1d-9bc1-4eb2-bc6e-f85b35ed5dd9",
   "metadata": {
    "iooxa": {
     "id": {
      "block": "gxcJLktOZ6egzXIUrDBB",
      "project": "ixWGbde11pmE0ozXb9jj",
      "version": 1
     }
    }
   },
   "source": [
    "### False Negative"
   ]
  },
  {
   "cell_type": "code",
   "execution_count": null,
   "id": "36ef41a2-e632-4ce1-8263-f86958081a7f",
   "metadata": {
    "iooxa": {
     "id": {
      "block": "tyXpHd4PYtMl4D2CFBp5",
      "project": "ixWGbde11pmE0ozXb9jj",
      "version": 1
     },
     "outputId": null
    }
   },
   "outputs": [],
   "source": [
    "confidence_thresh=0.8\n",
    "fcsts=ds_model.where(np.logical_and(ds_model['pred']!=ds_model['verif'],\n",
    "                                    ds_model['probs'].sel(cat='Lower')>=confidence_thresh)).sel(model_type='cnn_cat')\n",
    "count_str=str(int(np.count_nonzero(~np.isnan(fcsts['probs'].sel(cat='Lower')))))\n",
    "print(count_str)\n",
    "\n",
    "plotLRP_map(fcsts,['time','model'],'lrp.alpha_1_beta_0',cm='mako')"
   ]
  },
  {
   "cell_type": "code",
   "execution_count": null,
   "id": "b51968e2-f76e-4bf3-9b42-006de9771b87",
   "metadata": {
    "iooxa": {
     "id": {
      "block": "JLELxEOaU1hgzLNDOh3J",
      "project": "ixWGbde11pmE0ozXb9jj",
      "version": 1
     },
     "outputId": null
    }
   },
   "outputs": [],
   "source": [
    "ds_comp=ds_anoms.where(np.logical_and(ds_model['pred']!=ds_model['verif'],\n",
    "                                      ds_model['probs'].sel(cat='Lower')>=confidence_thresh)).sel(model_type='cnn_cat').mean(dim=['time','model'])\n"
   ]
  },
  {
   "cell_type": "code",
   "execution_count": null,
   "id": "c5e7c259-71ab-4617-b003-cbe8ba05ba39",
   "metadata": {
    "iooxa": {
     "id": {
      "block": "pD8rZGJeQ4mjBRRgb0UG",
      "project": "ixWGbde11pmE0ozXb9jj",
      "version": 1
     },
     "outputId": null
    }
   },
   "outputs": [],
   "source": [
    "lon_0=290\n",
    "f, axs = pplt.subplots(ncols=2, nrows=3,\n",
    "                        proj=['robin','npstere','npstere','robin','robin','robin'],proj_kw={'lon_0': lon_0},\n",
    "                      width=8.5,height=11)\n",
    "\n",
    "\n",
    "for i,(ax,v) in enumerate(zip(axs,list(ds.keys()))):\n",
    "    m=ax.contourf(ds_comp['lon'],ds_comp['lat'],ds_comp[v],levels=clevs[i],extend='both')\n",
    "    ax.format(coast=True,grid=True,lonlabels='b', latlabels='l',title=v,abc=True)\n",
    "    ax.colorbar(m)"
   ]
  },
  {
   "cell_type": "markdown",
   "id": "4c464c25-8489-4643-84e1-4473f15d5528",
   "metadata": {
    "iooxa": {
     "id": {
      "block": "pryTvoPjjxyHqResEigf",
      "project": "ixWGbde11pmE0ozXb9jj",
      "version": 1
     }
    }
   },
   "source": [
    "### False Positive"
   ]
  },
  {
   "cell_type": "code",
   "execution_count": null,
   "id": "8d049c7f-e78b-4ea8-a972-7ee4e58cdb2b",
   "metadata": {
    "iooxa": {
     "id": {
      "block": "NU4AaFo2qEOdocgpTfKT",
      "project": "ixWGbde11pmE0ozXb9jj",
      "version": 1
     },
     "outputId": null
    },
    "tags": []
   },
   "outputs": [],
   "source": [
    "confidence_thresh=0.8\n",
    "fcsts=ds_model.where(np.logical_and(ds_model['pred']!=ds_model['verif'],\n",
    "                                    ds_model['probs'].sel(cat='Upper')>=confidence_thresh)).sel(model_type='cnn_cat')\n",
    "count_str=str(int(np.count_nonzero(~np.isnan(fcsts['probs'].sel(cat='Upper')))))\n",
    "print(count_str)\n",
    "\n",
    "plotLRP_map(fcsts,['time','model'],'lrp.alpha_1_beta_0',cm='mako')"
   ]
  },
  {
   "cell_type": "code",
   "execution_count": null,
   "id": "2ba66066-754e-42e1-b113-8336d9a81984",
   "metadata": {
    "iooxa": {
     "id": {
      "block": "EdCEWMPqbV7YdSzDb2pf",
      "project": "ixWGbde11pmE0ozXb9jj",
      "version": 1
     },
     "outputId": null
    }
   },
   "outputs": [],
   "source": [
    "ds_comp=ds_anoms.where(np.logical_and(ds_model['pred']!=ds_model['verif'],\n",
    "                                      ds_model['probs'].sel(cat='Upper')>=confidence_thresh)).sel(model_type='cnn_cat').mean(dim=['time','model'])\n"
   ]
  },
  {
   "cell_type": "code",
   "execution_count": null,
   "id": "6e5dee4c-1058-4159-80ee-9ac721ad4c12",
   "metadata": {
    "iooxa": {
     "id": {
      "block": "hr80JmQjpUn7034H6FBG",
      "project": "ixWGbde11pmE0ozXb9jj",
      "version": 1
     },
     "outputId": null
    }
   },
   "outputs": [],
   "source": [
    "lon_0=290\n",
    "f, axs = pplt.subplots(ncols=2, nrows=3,\n",
    "                       proj=['robin','npstere','npstere','robin','robin','robin'],proj_kw={'lon_0': lon_0},\n",
    "                      width=8.5,height=11)\n",
    "\n",
    "\n",
    "for i,(ax,v) in enumerate(zip(axs,list(ds.keys()))):\n",
    "    m=ax.contourf(ds_comp['lon'],ds_comp['lat'],ds_comp[v],levels=clevs[i],extend='both')\n",
    "    ax.format(coast=True,grid=True,lonlabels='b', latlabels='l',title=v,abc=True)\n",
    "    ax.colorbar(m)"
   ]
  },
  {
   "cell_type": "markdown",
   "id": "c4443120-076b-4be4-8398-5707218a6e08",
   "metadata": {
    "iooxa": {
     "id": {
      "block": "ko5nQCdgsoNki7AygukN",
      "project": "ixWGbde11pmE0ozXb9jj",
      "version": 1
     }
    }
   },
   "source": [
    "### Test Load of Model and Model Summary"
   ]
  },
  {
   "cell_type": "code",
   "execution_count": 3,
   "id": "bd1bee95-ffa8-4480-aa2f-96855e813f2b",
   "metadata": {
    "iooxa": {
     "id": {
      "block": "8c9eqsgsR2BXEJAP5JpB",
      "project": "ixWGbde11pmE0ozXb9jj",
      "version": 1
     }
    }
   },
   "outputs": [
    {
     "name": "stdout",
     "output_type": "stream",
     "text": [
      "WARNING:tensorflow:From /homes/kpegion/.conda/envs/ml-precip/lib/python3.7/site-packages/tensorflow/python/framework/op_def_library.py:263: colocate_with (from tensorflow.python.framework.ops) is deprecated and will be removed in a future version.\n",
      "Instructions for updating:\n",
      "Colocations handled automatically by placer.\n",
      "WARNING:tensorflow:From /homes/kpegion/.conda/envs/ml-precip/lib/python3.7/site-packages/tensorflow/python/ops/math_ops.py:3066: to_int32 (from tensorflow.python.ops.math_ops) is deprecated and will be removed in a future version.\n",
      "Instructions for updating:\n",
      "Use tf.cast instead.\n",
      "_________________________________________________________________\n",
      "Layer (type)                 Output Shape              Param #   \n",
      "=================================================================\n",
      "input_1 (InputLayer)         (None, 37, 92, 6)         0         \n",
      "_________________________________________________________________\n",
      "conv2d_1 (Conv2D)            (None, 35, 90, 16)        880       \n",
      "_________________________________________________________________\n",
      "max_pooling2d_1 (MaxPooling2 (None, 33, 88, 16)        0         \n",
      "_________________________________________________________________\n",
      "conv2d_2 (Conv2D)            (None, 31, 86, 32)        4640      \n",
      "_________________________________________________________________\n",
      "max_pooling2d_2 (MaxPooling2 (None, 29, 84, 32)        0         \n",
      "_________________________________________________________________\n",
      "conv2d_3 (Conv2D)            (None, 27, 82, 64)        18496     \n",
      "_________________________________________________________________\n",
      "max_pooling2d_3 (MaxPooling2 (None, 25, 80, 64)        0         \n",
      "_________________________________________________________________\n",
      "flatten_1 (Flatten)          (None, 128000)            0         \n",
      "_________________________________________________________________\n",
      "dense_1 (Dense)              (None, 128)               16384128  \n",
      "_________________________________________________________________\n",
      "dense_2 (Dense)              (None, 2)                 258       \n",
      "=================================================================\n",
      "Total params: 16,408,402\n",
      "Trainable params: 16,408,402\n",
      "Non-trainable params: 0\n",
      "_________________________________________________________________\n"
     ]
    }
   ],
   "source": [
    "fname='../data/cnn/seus.median.DJF.cnn_cat.0.h5'\n",
    "model=load_model(fname)\n",
    "model.summary()"
   ]
  },
  {
   "cell_type": "markdown",
   "id": "3daa97de-b1d4-4d05-ad29-aa02db1530ab",
   "metadata": {
    "iooxa": {
     "id": {
      "block": "hX2VLy4VRRhgrUKdC47l",
      "project": "ixWGbde11pmE0ozXb9jj",
      "version": 1
     }
    },
    "tags": []
   },
   "source": [
    "### To-Do\n",
    "1. Model tuning\n",
    "2. Logistic test/comparison\n",
    "5. Model predicted features"
   ]
  }
 ],
 "metadata": {
  "iooxa": {
   "id": {
    "block": "8WbZMViKci4abwQEzrco",
    "project": "ixWGbde11pmE0ozXb9jj",
    "version": 2
   }
  },
  "kernelspec": {
   "display_name": "Python (ml-precip)",
   "language": "python",
   "name": "ml-precip"
  },
  "language_info": {
   "codemirror_mode": {
    "name": "ipython",
    "version": 3
   },
   "file_extension": ".py",
   "mimetype": "text/x-python",
   "name": "python",
   "nbconvert_exporter": "python",
   "pygments_lexer": "ipython3",
   "version": "3.7.10"
  }
 },
 "nbformat": 4,
 "nbformat_minor": 5
}
