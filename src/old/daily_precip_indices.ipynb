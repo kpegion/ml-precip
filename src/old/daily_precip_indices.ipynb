{
 "cells": [
  {
   "cell_type": "code",
   "execution_count": null,
   "id": "e7aff4d2-1917-48a5-badd-3307c000a548",
   "metadata": {
    "iooxa": {
     "id": {
      "block": "JqQbyTrJbSZA991ofMhZ",
      "project": "ixWGbde11pmE0ozXb9jj",
      "version": 4
     },
     "outputId": {
      "block": "OJaxpN1VbcX29JymKl79",
      "project": "ixWGbde11pmE0ozXb9jj",
      "version": 4
     }
    },
    "tags": []
   },
   "outputs": [],
   "source": [
    "import numpy as np\n",
    "import pandas as pd\n",
    "import xarray as xr\n",
    "import matplotlib.pyplot as plt\n",
    "#import seaborn as sns\n",
    "from scipy import signal\n",
    "\n",
    "import cartopy.feature as cfeature\n",
    "import cartopy.crs as ccrs\n",
    "import cartopy.mpl.ticker as cticker\n",
    "from cartopy.util import add_cyclic_point\n",
    " \n",
    "from mlprecip_utils import *\n",
    "from mlprecip_models import *\n",
    "from mlprecip_datasets import *\n",
    "from mlprecip_xai import *\n",
    "from mlprecip_plot import *\n",
    "\n",
    "import mlprecip_datasets\n",
    "\n",
    "import warnings"
   ]
  },
  {
   "cell_type": "code",
   "execution_count": null,
   "id": "ebbd3840-6680-4836-8905-6cf73bd01936",
   "metadata": {
    "iooxa": {
     "id": {
      "block": "35G8y4kssafBLe6yfVBe",
      "project": "ixWGbde11pmE0ozXb9jj",
      "version": 1
     },
     "outputId": null
    }
   },
   "outputs": [],
   "source": [
    "warnings.filterwarnings(\"ignore\")"
   ]
  },
  {
   "cell_type": "markdown",
   "id": "38fff044-caa9-4bf3-b3fc-8ba8f3169200",
   "metadata": {
    "iooxa": {
     "id": {
      "block": "O0E5RFFsu0toepThWnxj",
      "project": "ixWGbde11pmE0ozXb9jj",
      "version": 1
     }
    }
   },
   "source": [
    "### Set Variables for plotting, region, etc."
   ]
  },
  {
   "cell_type": "code",
   "execution_count": null,
   "id": "29bcc02e-3581-41c4-b91b-19400997aa0b",
   "metadata": {
    "iooxa": {
     "id": {
      "block": "6bKGHo9rm9uNP4H2AAhO",
      "project": "ixWGbde11pmE0ozXb9jj",
      "version": 4
     },
     "outputId": null
    },
    "tags": []
   },
   "outputs": [],
   "source": [
    "cmap='DryWet'\n",
    "clevs=np.arange(-0.8,0.9,0.1)\n",
    "labels=['Positive','Neutral','Negative']\n",
    "varname='precip'\n",
    "#varname='z500'\n",
    "cat_labels=['Lower','Upper']\n",
    "model_types=['logmodel_med','nnmodel_med']\n",
    "\n",
    "# SEUS\n",
    "lat_reg=[24.0,36.0]\n",
    "lon_reg=[269.0,283.0]\n",
    "\n",
    "# US\n",
    "#lonreg=[230,310]\n",
    "#latreg=[25,55]\n",
    "\n",
    "winter=[12,1,2]\n",
    "summer=[6,7,8]\n",
    "sdate='1979-01-01'\n",
    "#edate='2019-12-31'\n",
    "edate='2018-12-31'\n",
    "bins=[-100,-0.5,0.5,100]"
   ]
  },
  {
   "cell_type": "markdown",
   "id": "4f012f9f-5ecd-41c6-9868-7e5880e04ee3",
   "metadata": {
    "iooxa": {
     "id": {
      "block": "oq4fWWjSHVG8bP21twtl",
      "project": "ixWGbde11pmE0ozXb9jj",
      "version": 2
     }
    }
   },
   "source": [
    "### Read in Precip Data, Subset to Region, & Calculate Anomalies"
   ]
  },
  {
   "cell_type": "code",
   "execution_count": null,
   "id": "56c05b54-d06e-4b7b-a0af-b201a8ec8537",
   "metadata": {
    "iooxa": {
     "id": {
      "block": "i2D5wgyZb5iSVEcQKwkx",
      "project": "ixWGbde11pmE0ozXb9jj",
      "version": 3
     },
     "outputId": {
      "block": "ESWHqUOEFlcFSlpTWaD5",
      "project": "ixWGbde11pmE0ozXb9jj",
      "version": 2
     }
    }
   },
   "outputs": [],
   "source": [
    "fnames='/shared/ccsm4/kpegion/obs2/CPC-UNI/precip.V1.0.*.nc'\n",
    "ds=xr.open_mfdataset(fnames,combine='by_coords').sel(time=slice(sdate,edate))\n",
    "\n",
    "# Subset to SEUS\n",
    "ds_seus=ds.sel(lat=slice(lat_reg[0],lat_reg[1]),lon=slice(lon_reg[0],lon_reg[1]))\n",
    "\n",
    "# Calculate Anomalies\n",
    "ds_anoms=ds_seus.groupby('time.dayofyear')-ds_seus.groupby('time.dayofyear').mean()\n",
    "\n",
    "# Smooth data\n",
    "#ds_anoms=ds_anoms.rolling(time=7,center=False).mean() #.dropna(dim='time')\n",
    "\n",
    "ds_anoms=ds_anoms.sortby('time')"
   ]
  },
  {
   "cell_type": "markdown",
   "id": "c0ca283b-6ec7-4077-9e94-26b1c8fafbbc",
   "metadata": {
    "iooxa": {
     "id": {
      "block": "ZDcH4xyk3Hajbzaoib1a",
      "project": "ixWGbde11pmE0ozXb9jj",
      "version": 1
     }
    }
   },
   "source": [
    "### ERAI Z500"
   ]
  },
  {
   "cell_type": "markdown",
   "id": "2089ef4a-8999-487d-9513-98f5ef32761c",
   "metadata": {
    "iooxa": {
     "id": {
      "block": "BkZ1fQlKBUxkMGffYiqI",
      "project": "ixWGbde11pmE0ozXb9jj",
      "version": 1
     }
    }
   },
   "source": [
    "fname='/project/predictability/kpegion/wxregimes/era-interim/erai_z500_1979-2019.nc'\n",
    "ds=xr.open_dataset(fname)\n",
    "ds_anoms=ds.groupby('time.dayofyear')-ds.groupby('time.dayofyear').mean()"
   ]
  },
  {
   "cell_type": "markdown",
   "id": "629a9ca2-ea81-4bb8-a97d-56fd6f4dfa66",
   "metadata": {
    "iooxa": {
     "id": {
      "block": "zHvVzZGIghhqdABIv0QF",
      "project": "ixWGbde11pmE0ozXb9jj",
      "version": 1
     }
    }
   },
   "source": [
    "### Main Program"
   ]
  },
  {
   "cell_type": "code",
   "execution_count": null,
   "id": "6ac39cb1-0865-4486-b94a-1bebf964dbe4",
   "metadata": {
    "iooxa": {
     "id": {
      "block": "Ypwk9okr2NDryOhyynwl",
      "project": "ixWGbde11pmE0ozXb9jj",
      "version": 7
     },
     "outputId": {
      "block": "HdrGbiPyfInL5P7dE8eh",
      "project": "ixWGbde11pmE0ozXb9jj",
      "version": 5
     }
    }
   },
   "outputs": [],
   "source": [
    "indices_dict=init_predictors_dict()\n",
    "\n",
    "# Loop over seasons\n",
    "for seas,slabel,seas_abbrv in zip([winter,summer],['Winter','Summer'],['DJF','JJA']):\n",
    "#for seas,slabel,seas_abbrv in zip([summer],['Summer'],['JJA']):\n",
    "    \n",
    "    print(slabel)\n",
    "        \n",
    "    features_list=[]\n",
    "    \n",
    "    # Loop over all indices\n",
    "    for i,f in enumerate(indices_dict):\n",
    "        \n",
    "        # Check if this predictor is valid for this season\n",
    "        if (seas_abbrv in f['seas']):\n",
    "        \n",
    "            # Read the Indices\n",
    "            if (f['ptype']=='index' and f['freq']=='mon'):\n",
    "                ds=getattr(mlprecip_datasets,f['readfunc'])(f['file'],f['name'],sdate,edate)\n",
    "                # Linearly interpolate monthly indices to daily\n",
    "                ds=ds.resample(time='1D').interpolate(\"linear\").sel(time=slice(sdate,edate))\n",
    "            elif (f['name']=='RMM_amp'):\n",
    "                _,ds=getattr(mlprecip_datasets,f['readfunc'])(f['file'],sdate,edate)\n",
    "            elif (f['name']=='RMM_phase'):\n",
    "                ds,_=getattr(mlprecip_datasets,f['readfunc'])(f['file'],sdate,edate)\n",
    "            elif (f['name']=='pnaregimes'): \n",
    "                ds=getattr(mlprecip_datasets,f['readfunc'])(f['file'],seas_abbrv,sdate,edate)\n",
    "            elif (f['name']=='nash_amp'):\n",
    "                _,ds=getattr(mlprecip_datasets,f['readfunc'])(f['file'],sdate,edate)\n",
    "            elif (f['name']=='nash_phase'):\n",
    "                ds,_=getattr(mlprecip_datasets,f['readfunc'])(f['file'],sdate,edate)\n",
    "            elif (f['name']=='z500_local'):\n",
    "                ds=getattr(mlprecip_datasets,f['readfunc'])(f['file'],lat_reg,lon_reg,sdate,edate)\n",
    "            else:\n",
    "                ds=getattr(mlprecip_datasets,f['readfunc'])(f['file'],sdate,edate)\n",
    "        \n",
    "            # Detrend and standardize indices that are not categorical\n",
    "            if (f['ptype']=='index'):\n",
    "                v=f['name']\n",
    "                ds[v]=(ds[v]-ds[v].mean(dim='time'))/ds[v].std(dim='time')\n",
    "        \n",
    "            # Select season from predictor index and target index\n",
    "            ds_i=ds.sel(time=ds['time.month'].isin(seas)) #.dropna(dim='time')        \n",
    "            ds_p=ds_anoms.sel(time=ds_anoms['time.month'].isin(seas)).sel(time=slice(sdate,edate)) #.dropna(dim='time')\n",
    "        \n",
    "            # Append this predictor index to list of all predictors\n",
    "            features_list.append(ds_i[f['name']].sortby('time'))\n",
    "\n",
    "        # Categorize predictor indices for composites and ratios\n",
    "        #ds_bins=[]\n",
    "        #if (f['ptype']=='index'):\n",
    "        #    ds_bins=makeCategories(ds_i,bins,f['name'])\n",
    "        #    labels=['Positive','Neutral','Negative']\n",
    "        #else:\n",
    "        #    ds_bins=xr.DataArray(ds[f['name']],\n",
    "        #                         coords={'time':ds['time'].values},\n",
    "        #                         dims=['time'])  \n",
    "        #    ds_bins=ds_bins.to_dataset(name=f['name']+'_bins')\n",
    "        #    nbins=int(np.nanmax(ds[f['name']].values)+1)\n",
    "        #    labels=np.arange(nbins).astype(str)  \n",
    "        #ds=xr.merge([ds_p,ds_bins])\n",
    "        \n",
    "        #---------- COMPOSITES ------------#\n",
    "        #ds_comp,totals=calcComposites(ds,f['name'],labels)\n",
    "        #ds_totals=xr.concat(totals,dim=f['name']+'_bins').to_dataset(name='bins_count')\n",
    "        #suptitle=slabel+' '+' Anomalies '+f['name'].upper()\n",
    "        #compfile='../figs/comp_anomaly.daily.'+slabel+'.'+f['name']+'.png'\n",
    "        #plotComposites(ds_comp,f['name'],totals,suptitle,labels,clevs,cmap,compfile)\n",
    "        \n",
    "        #---------- % DAYS ABOVE/BELOW NORMAL -------#   \n",
    "        #da_above,da_below,da_ratio=calcRatios(ds,f['name'],'precip',0.0)\n",
    "        #clevs_ratio=np.arange(0,100,5)\n",
    "        \n",
    "        # Above\n",
    "        #suptitle=f['name'].upper()+' % Days Above Normal '+slabel\n",
    "        #compfile='../figs/comp_above.daily.'+slabel+'.'+f['name']+'.png'\n",
    "        #plotRatios((da_above/(da_above+da_below)*100),f['name'],suptitle,labels,clevs_ratio,'Greens1',compfile)\n",
    "        \n",
    "        # Below\n",
    "        #suptitle=f['name'].upper()+' % Days Below Normal '+slabel\n",
    "        #compfile='../figs/comp_below.daily.'+slabel+'.'+f['name']+'.png'\n",
    "        #plotRatios((da_below/(da_above+da_below)*100),f['name'],suptitle,labels,clevs_ratio,'Browns3',compfile)\n",
    "        \n",
    "    #----- FIT MODELS AND TEST  -----------#\n",
    "    \n",
    "    # Define Features\n",
    "    ds_features=xr.merge(features_list).dropna(dim='time')   \n",
    "    \n",
    "    # Define Index Target as Mean precip in region\n",
    "    # Note this is currently designed as a diagnostic not a real prediction; add target lead for prediction\n",
    "    ds_target=ds_p.mean(dim=['lat','lon'])\n",
    "    \n",
    "    # Make sure we have the same times for target and features\n",
    "    ds_target,ds_features=xr.align(ds_target.dropna(dim='time'),ds_features.dropna(dim='time'),join='inner')\n",
    "    \n",
    "    median=np.percentile(ds_target[varname],50)\n",
    "    ds_target[varname]=ds_target[varname]-median\n",
    "        \n",
    "    # Test the prediction of daily preciptation anomaly\n",
    "    #print('============= Regression ==========================')\n",
    "    #testModelsRegr(ds_features,ds_target)\n",
    "    \n",
    "    # Test the prediction of precipitation in categories by different ML models\n",
    "    print('============= Categorical Models  ================')\n",
    "    nmodels=2\n",
    "    \n",
    "    ds_model_list=[]\n",
    "    for m_function in model_types:\n",
    "        print(m_function)\n",
    "        #fname='../data/fnn/seus.median.'+seas_abbrv+'.'+m_function\n",
    "        tmp=testModelsCat(m_function,ds_features,ds_target,varname,nmodels,fname=fname)\n",
    "        ds_model_list.append(tmp)\n",
    "        \n",
    "    # Create Dataset of different kinds of ML models (logistic, NNs, etc)\n",
    "    ds_model=xr.concat(ds_model_list,dim='model_type')\n",
    "    ds_model['model_type']=model_types\n",
    "        \n",
    "    # Save model output\n",
    "    #ds_model.to_netcdf('../data/fnn/model_output.'+seas_abbrv+'.nc')    "
   ]
  },
  {
   "cell_type": "code",
   "execution_count": null,
   "id": "aa92bd0f-b22f-4dfc-b018-5e83aba71215",
   "metadata": {},
   "outputs": [],
   "source": [
    "ds_features"
   ]
  },
  {
   "cell_type": "code",
   "execution_count": null,
   "id": "ee1a42df-0fdb-4a07-89d2-04031a5d18b8",
   "metadata": {},
   "outputs": [],
   "source": [
    "ds_target"
   ]
  },
  {
   "cell_type": "code",
   "execution_count": null,
   "id": "fa3a012f-be6a-461a-9960-0ace9e0f21f3",
   "metadata": {},
   "outputs": [],
   "source": []
  }
 ],
 "metadata": {
  "iooxa": {
   "id": {
    "block": "gjcdFetJIlDj4maw5j0h",
    "project": "ixWGbde11pmE0ozXb9jj",
    "version": 6
   }
  },
  "kernelspec": {
   "display_name": "Python (ml-precip)",
   "language": "python",
   "name": "ml-precip"
  },
  "language_info": {
   "codemirror_mode": {
    "name": "ipython",
    "version": 3
   },
   "file_extension": ".py",
   "mimetype": "text/x-python",
   "name": "python",
   "nbconvert_exporter": "python",
   "pygments_lexer": "ipython3",
   "version": "3.7.10"
  }
 },
 "nbformat": 4,
 "nbformat_minor": 5
}
