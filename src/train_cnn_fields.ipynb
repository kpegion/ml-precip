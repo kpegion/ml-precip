{
 "cells": [
  {
   "cell_type": "code",
   "execution_count": 1,
   "id": "e7aff4d2-1917-48a5-badd-3307c000a548",
   "metadata": {
    "iooxa": {
     "id": {
      "block": "JqQbyTrJbSZA991ofMhZ",
      "project": "ixWGbde11pmE0ozXb9jj",
      "version": 4
     },
     "outputId": {
      "block": "OJaxpN1VbcX29JymKl79",
      "project": "ixWGbde11pmE0ozXb9jj",
      "version": 4
     }
    },
    "tags": []
   },
   "outputs": [
    {
     "name": "stderr",
     "output_type": "stream",
     "text": [
      "Using TensorFlow backend.\n",
      "/homes/kpegion/.conda/envs/ml-precip/lib/python3.7/site-packages/tensorflow/python/framework/dtypes.py:526: FutureWarning: Passing (type, 1) or '1type' as a synonym of type is deprecated; in a future version of numpy, it will be understood as (type, (1,)) / '(1,)type'.\n",
      "  _np_qint8 = np.dtype([(\"qint8\", np.int8, 1)])\n",
      "/homes/kpegion/.conda/envs/ml-precip/lib/python3.7/site-packages/tensorflow/python/framework/dtypes.py:527: FutureWarning: Passing (type, 1) or '1type' as a synonym of type is deprecated; in a future version of numpy, it will be understood as (type, (1,)) / '(1,)type'.\n",
      "  _np_quint8 = np.dtype([(\"quint8\", np.uint8, 1)])\n",
      "/homes/kpegion/.conda/envs/ml-precip/lib/python3.7/site-packages/tensorflow/python/framework/dtypes.py:528: FutureWarning: Passing (type, 1) or '1type' as a synonym of type is deprecated; in a future version of numpy, it will be understood as (type, (1,)) / '(1,)type'.\n",
      "  _np_qint16 = np.dtype([(\"qint16\", np.int16, 1)])\n",
      "/homes/kpegion/.conda/envs/ml-precip/lib/python3.7/site-packages/tensorflow/python/framework/dtypes.py:529: FutureWarning: Passing (type, 1) or '1type' as a synonym of type is deprecated; in a future version of numpy, it will be understood as (type, (1,)) / '(1,)type'.\n",
      "  _np_quint16 = np.dtype([(\"quint16\", np.uint16, 1)])\n",
      "/homes/kpegion/.conda/envs/ml-precip/lib/python3.7/site-packages/tensorflow/python/framework/dtypes.py:530: FutureWarning: Passing (type, 1) or '1type' as a synonym of type is deprecated; in a future version of numpy, it will be understood as (type, (1,)) / '(1,)type'.\n",
      "  _np_qint32 = np.dtype([(\"qint32\", np.int32, 1)])\n",
      "/homes/kpegion/.conda/envs/ml-precip/lib/python3.7/site-packages/tensorflow/python/framework/dtypes.py:535: FutureWarning: Passing (type, 1) or '1type' as a synonym of type is deprecated; in a future version of numpy, it will be understood as (type, (1,)) / '(1,)type'.\n",
      "  np_resource = np.dtype([(\"resource\", np.ubyte, 1)])\n"
     ]
    }
   ],
   "source": [
    "import numpy as np\n",
    "import pandas as pd\n",
    "import xarray as xr\n",
    "import matplotlib.pyplot as plt\n",
    "from scipy import signal\n",
    "import xesmf as xe\n",
    " \n",
    "from mlprecip_utils import *\n",
    "from mlprecip_models import *\n",
    "from mlprecip_xai import *\n",
    "from mlprecip_plot import *\n",
    "\n",
    "import warnings\n",
    "warnings.filterwarnings(\"ignore\")"
   ]
  },
  {
   "cell_type": "code",
   "execution_count": 2,
   "id": "c55988b6-3199-4381-85db-a216154481f8",
   "metadata": {},
   "outputs": [],
   "source": [
    "varname='precip'\n",
    "model_types=['cnn_cat'] \n",
    "\n",
    "# Define Winter and Summer Months\n",
    "winter=[12,1,2]\n",
    "summer=[6,7,8]"
   ]
  },
  {
   "cell_type": "markdown",
   "id": "ab164f14-6cf5-40dd-aa0b-e2dcf0549847",
   "metadata": {},
   "source": [
    "### Read in train and test data"
   ]
  },
  {
   "cell_type": "code",
   "execution_count": 3,
   "id": "55745717-4ba8-42d9-ae01-889e6e9e20d9",
   "metadata": {},
   "outputs": [],
   "source": [
    "ds_features_tval=xr.open_dataset('../data/cnn/features_trainval.nc')\n",
    "ds_target_tval=xr.open_dataset('../data/cnn/target_trainval.nc')"
   ]
  },
  {
   "cell_type": "markdown",
   "id": "629a9ca2-ea81-4bb8-a97d-56fd6f4dfa66",
   "metadata": {
    "iooxa": {
     "id": {
      "block": "zHvVzZGIghhqdABIv0QF",
      "project": "ixWGbde11pmE0ozXb9jj",
      "version": 1
     }
    }
   },
   "source": [
    "### Main Program to Train Models"
   ]
  },
  {
   "cell_type": "code",
   "execution_count": null,
   "id": "6ac39cb1-0865-4486-b94a-1bebf964dbe4",
   "metadata": {
    "iooxa": {
     "id": {
      "block": "Ypwk9okr2NDryOhyynwl",
      "project": "ixWGbde11pmE0ozXb9jj",
      "version": 7
     },
     "outputId": {
      "block": "HdrGbiPyfInL5P7dE8eh",
      "project": "ixWGbde11pmE0ozXb9jj",
      "version": 5
     }
    }
   },
   "outputs": [
    {
     "name": "stdout",
     "output_type": "stream",
     "text": [
      "Winter\n",
      "cnn_cat\n",
      "Upper Cat:  1715\n",
      "Lower Cat:  1714\n",
      "Check Features and Target Dimensions\n",
      "Features (X):  (3429, 37, 92, 6)\n",
      "Target (Y):  (3429, 2)\n",
      "Training Size:  3086\n",
      "Validation Size:  343\n",
      "Epoch 00067: early stopping\n",
      "Training set accuracy score: 0.7952041462382479\n",
      "Validation set accuracy score: 0.746355694167468\n",
      "Validation ROC AUC score: 0.8474221856574797\n",
      "Epoch 00073: early stopping\n",
      "Training set accuracy score: 0.7440051895434101\n",
      "Validation set accuracy score: 0.6967930016121433\n",
      "Validation ROC AUC score: 0.8236322501028384\n",
      "Epoch 00064: early stopping\n",
      "Training set accuracy score: 0.7556707753195673\n",
      "Validation set accuracy score: 0.6938775529319274\n",
      "Validation ROC AUC score: 0.8381667352255588\n",
      "Epoch 00068: early stopping\n",
      "Training set accuracy score: 0.7926117948564861\n",
      "Validation set accuracy score: 0.7346938752919523\n",
      "Validation ROC AUC score: 0.8489304812834224\n",
      "Epoch 00064: early stopping\n",
      "Training set accuracy score: 0.7854828266493314\n",
      "Validation set accuracy score: 0.7172011675709539\n",
      "Validation ROC AUC score: 0.8420060331825038\n",
      "Epoch 00062: early stopping\n",
      "Training set accuracy score: 0.7764095916851573\n",
      "Validation set accuracy score: 0.7201166184233507\n",
      "Validation ROC AUC score: 0.8367955573837926\n",
      "Epoch 00066: early stopping\n",
      "Training set accuracy score: 0.7728451098317228\n",
      "Validation set accuracy score: 0.7376093252754767\n",
      "Validation ROC AUC score: 0.8394350747291923\n",
      "Epoch 00071: early stopping\n",
      "Training set accuracy score: 0.7874270921122772\n",
      "Validation set accuracy score: 0.7463556899968806\n",
      "Validation ROC AUC score: 0.8400521047579872\n",
      "Epoch 00062: early stopping\n",
      "Training set accuracy score: 0.7754374617929205\n",
      "Validation set accuracy score: 0.7142857141119399\n",
      "Validation ROC AUC score: 0.8633278486219662\n",
      "Epoch 00063: early stopping\n",
      "Training set accuracy score: 0.7566429058491836\n",
      "Validation set accuracy score: 0.717201163226592\n",
      "Validation ROC AUC score: 0.8391951186068833\n",
      "Epoch 00061: early stopping\n",
      "Training set accuracy score: 0.7485418014435975\n",
      "Validation set accuracy score: 0.6851312012436092\n",
      "Validation ROC AUC score: 0.8226724256136021\n",
      "Epoch 00064: early stopping\n",
      "Training set accuracy score: 0.7990926775890592\n",
      "Validation set accuracy score: 0.734693877029697\n",
      "Validation ROC AUC score: 0.8648704236939531\n",
      "Epoch 00066: early stopping\n",
      "Training set accuracy score: 0.778029811455689\n",
      "Validation set accuracy score: 0.7405247908987039\n",
      "Validation ROC AUC score: 0.8444398738516385\n",
      "Epoch 00066: early stopping\n",
      "Training set accuracy score: 0.7738172411146059\n",
      "Validation set accuracy score: 0.7288629744560309\n",
      "Validation ROC AUC score: 0.8474907445495681\n",
      "Epoch 00066: early stopping\n",
      "Training set accuracy score: 0.7974724535307016\n",
      "Validation set accuracy score: 0.7463556856525188\n",
      "Validation ROC AUC score: 0.8482791718085836\n",
      "Epoch 00072: early stopping\n",
      "Training set accuracy score: 0.7806221679751161\n",
      "Validation set accuracy score: 0.7638483984129769\n",
      "Validation ROC AUC score: 0.8299739476210065\n",
      "Epoch 00071: early stopping\n",
      "Training set accuracy score: 0.7773817248415499\n",
      "Validation set accuracy score: 0.7609329494720993\n",
      "Validation ROC AUC score: 0.8409433703551351\n",
      "Epoch 00062: early stopping\n",
      "Training set accuracy score: 0.7660401836085922\n",
      "Validation set accuracy score: 0.7026239063579904\n",
      "Validation ROC AUC score: 0.8426573426573427\n",
      "Epoch 00071: early stopping\n",
      "Training set accuracy score: 0.803305250498975\n",
      "Validation set accuracy score: 0.7609329494720993\n",
      "Validation ROC AUC score: 0.8577060194707253\n",
      "Epoch 00062: early stopping\n",
      "Training set accuracy score: 0.768308489452456\n",
      "Validation set accuracy score: 0.6967930063909414\n",
      "Validation ROC AUC score: 0.8278143425202249\n",
      "Epoch 00071: early stopping\n",
      "Training set accuracy score: 0.8052495120990145\n",
      "Validation set accuracy score: 0.7725947587900189\n",
      "Validation ROC AUC score: 0.8593171534348005\n",
      "Epoch 00069: early stopping\n",
      "Training set accuracy score: 0.8029812038987778\n",
      "Validation set accuracy score: 0.7521866003903981\n",
      "Validation ROC AUC score: 0.8547579871109283\n",
      "Epoch 00066: early stopping\n",
      "Training set accuracy score: 0.7958522366573497\n",
      "Validation set accuracy score: 0.7521865960460362\n",
      "Validation ROC AUC score: 0.8566776360894007\n",
      "Epoch 00070: early stopping\n",
      "Training set accuracy score: 0.8003888535986299\n",
      "Validation set accuracy score: 0.7609329477343545\n",
      "Validation ROC AUC score: 0.849958864664747\n",
      "Epoch 00070: early stopping\n",
      "Training set accuracy score: 0.7913156191752626\n",
      "Validation set accuracy score: 0.7405247822099802\n",
      "Validation ROC AUC score: 0.8474907445495681\n",
      "Epoch 00061: early stopping\n",
      "Training set accuracy score: 0.7627997414407526\n",
      "Validation set accuracy score: 0.6880466503582613\n",
      "Validation ROC AUC score: 0.8360071301247771\n",
      "Epoch 00064: early stopping\n",
      "Training set accuracy score: 0.7832145188740145\n",
      "Validation set accuracy score: 0.7113702606529259\n",
      "Validation ROC AUC score: 0.8446798299739476\n",
      "Epoch 00068: early stopping\n",
      "Training set accuracy score: 0.7900194440734749\n",
      "Validation set accuracy score: 0.7551020502001482\n",
      "Validation ROC AUC score: 0.8514328808446455\n",
      "Epoch 00066: early stopping\n",
      "Training set accuracy score: 0.7906675313249936\n",
      "Validation set accuracy score: 0.7521865925705468\n",
      "Validation ROC AUC score: 0.85468942821884\n",
      "Epoch 00072: early stopping\n",
      "Training set accuracy score: 0.7712248871060678\n",
      "Validation set accuracy score: 0.720116609734627\n",
      "Validation ROC AUC score: 0.8534553681612504\n",
      "Epoch 00066: early stopping\n",
      "Training set accuracy score: 0.8016850273484003\n",
      "Validation set accuracy score: 0.7667638520457655\n",
      "Validation ROC AUC score: 0.8696352666940903\n",
      "Epoch 00070: early stopping\n",
      "Training set accuracy score: 0.7559948188390967\n",
      "Validation set accuracy score: 0.6909621059894562\n",
      "Validation ROC AUC score: 0.8268887974770328\n",
      "Epoch 00067: early stopping\n",
      "Training set accuracy score: 0.7974724583593346\n",
      "Validation set accuracy score: 0.7667638553474805\n",
      "Validation ROC AUC score: 0.8576717400246812\n",
      "Epoch 00066: early stopping\n",
      "Training set accuracy score: 0.795204149618291\n",
      "Validation set accuracy score: 0.7405247865543421\n",
      "Validation ROC AUC score: 0.8563348416289593\n",
      "Epoch 00069: early stopping\n",
      "Training set accuracy score: 0.7647440054551086\n",
      "Validation set accuracy score: 0.7201166208561933\n",
      "Validation ROC AUC score: 0.8291855203619909\n",
      "Epoch 00069: early stopping\n",
      "Training set accuracy score: 0.8052495114616349\n",
      "Validation set accuracy score: 0.746355690865753\n",
      "Validation ROC AUC score: 0.8638420403126286\n",
      "Epoch 00068: early stopping\n",
      "Training set accuracy score: 0.807841866377956\n",
      "Validation set accuracy score: 0.76093294756058\n",
      "Validation ROC AUC score: 0.8539352804058686\n",
      "Epoch 00063: early stopping\n",
      "Training set accuracy score: 0.7572909939505416\n",
      "Validation set accuracy score: 0.7580175001836726\n",
      "Validation ROC AUC score: 0.8352187028657616\n",
      "Epoch 00070: early stopping\n",
      "Training set accuracy score: 0.7990926790376491\n",
      "Validation set accuracy score: 0.7521865967411342\n",
      "Validation ROC AUC score: 0.8503359385712326\n",
      "Epoch 00064: early stopping\n",
      "Training set accuracy score: 0.7958522352087598\n",
      "Validation set accuracy score: 0.7492711399804052\n",
      "Validation ROC AUC score: 0.8647675853558207\n",
      "Epoch 00068: early stopping\n",
      "Training set accuracy score: 0.7673363578412259\n",
      "Validation set accuracy score: 0.7376093329215536\n",
      "Validation ROC AUC score: 0.8323392293980529\n"
     ]
    }
   ],
   "source": [
    "# Loop over seasons\n",
    "for seas,slabel,seas_abbrv in zip([winter,summer],['Winter','Summer'],['DJF','JJA']):\n",
    "    \n",
    "    print(slabel)\n",
    "                    \n",
    "    # Select season from target precip anomalies\n",
    "    ds_i=ds_target_tval.sel(time=ds_target_tval['time.month'].isin(seas)) \n",
    "    \n",
    "    # Make sure we have the same times for target and features\n",
    "    ds_t,ds_f=xr.align(ds_i.dropna(dim='time'),\n",
    "                       ds_features_tval.dropna(dim='time'),\n",
    "                       join='inner')\n",
    "\n",
    "    # Subtract the median to ensure data is centered and classes are equal\n",
    "    median=np.percentile(ds_t[varname],50)\n",
    "    ds_t[varname]=ds_t[varname]-median\n",
    "     \n",
    "    #----- TRAIN MODELS  -----------#\n",
    "    # Define number of models to fit\n",
    "    nmodels=50\n",
    "     \n",
    "    # Loop over Model Types    \n",
    "    for m_function in model_types:\n",
    "        print(m_function)\n",
    "        fname='../data/cnn_test/seus.median.'+seas_abbrv+'.'+m_function\n",
    "        ofname='../data/cnn_test/model_output.'+seas_abbrv+'.'+m_function\n",
    "        trainCNN(m_function,ds_f,ds_t,varname,nmodels,fname=fname,ofname=ofname)\n",
    "        \n",
    "        "
   ]
  },
  {
   "cell_type": "code",
   "execution_count": null,
   "id": "37abe2a5-1db1-4518-9bd2-6665c6c514d2",
   "metadata": {},
   "outputs": [],
   "source": []
  }
 ],
 "metadata": {
  "iooxa": {
   "id": {
    "block": "gjcdFetJIlDj4maw5j0h",
    "project": "ixWGbde11pmE0ozXb9jj",
    "version": 6
   }
  },
  "kernelspec": {
   "display_name": "Python (ml-precip)",
   "language": "python",
   "name": "ml-precip"
  },
  "language_info": {
   "codemirror_mode": {
    "name": "ipython",
    "version": 3
   },
   "file_extension": ".py",
   "mimetype": "text/x-python",
   "name": "python",
   "nbconvert_exporter": "python",
   "pygments_lexer": "ipython3",
   "version": "3.7.10"
  }
 },
 "nbformat": 4,
 "nbformat_minor": 5
}
