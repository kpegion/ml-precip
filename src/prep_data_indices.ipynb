{
 "cells": [
  {
   "cell_type": "code",
   "execution_count": 1,
   "id": "41177a02",
   "metadata": {},
   "outputs": [
    {
     "name": "stderr",
     "output_type": "stream",
     "text": [
      "Using TensorFlow backend.\n",
      "/homes/kpegion/.conda/envs/ml-precip/lib/python3.7/site-packages/tensorflow/python/framework/dtypes.py:526: FutureWarning: Passing (type, 1) or '1type' as a synonym of type is deprecated; in a future version of numpy, it will be understood as (type, (1,)) / '(1,)type'.\n",
      "  _np_qint8 = np.dtype([(\"qint8\", np.int8, 1)])\n",
      "/homes/kpegion/.conda/envs/ml-precip/lib/python3.7/site-packages/tensorflow/python/framework/dtypes.py:527: FutureWarning: Passing (type, 1) or '1type' as a synonym of type is deprecated; in a future version of numpy, it will be understood as (type, (1,)) / '(1,)type'.\n",
      "  _np_quint8 = np.dtype([(\"quint8\", np.uint8, 1)])\n",
      "/homes/kpegion/.conda/envs/ml-precip/lib/python3.7/site-packages/tensorflow/python/framework/dtypes.py:528: FutureWarning: Passing (type, 1) or '1type' as a synonym of type is deprecated; in a future version of numpy, it will be understood as (type, (1,)) / '(1,)type'.\n",
      "  _np_qint16 = np.dtype([(\"qint16\", np.int16, 1)])\n",
      "/homes/kpegion/.conda/envs/ml-precip/lib/python3.7/site-packages/tensorflow/python/framework/dtypes.py:529: FutureWarning: Passing (type, 1) or '1type' as a synonym of type is deprecated; in a future version of numpy, it will be understood as (type, (1,)) / '(1,)type'.\n",
      "  _np_quint16 = np.dtype([(\"quint16\", np.uint16, 1)])\n",
      "/homes/kpegion/.conda/envs/ml-precip/lib/python3.7/site-packages/tensorflow/python/framework/dtypes.py:530: FutureWarning: Passing (type, 1) or '1type' as a synonym of type is deprecated; in a future version of numpy, it will be understood as (type, (1,)) / '(1,)type'.\n",
      "  _np_qint32 = np.dtype([(\"qint32\", np.int32, 1)])\n",
      "/homes/kpegion/.conda/envs/ml-precip/lib/python3.7/site-packages/tensorflow/python/framework/dtypes.py:535: FutureWarning: Passing (type, 1) or '1type' as a synonym of type is deprecated; in a future version of numpy, it will be understood as (type, (1,)) / '(1,)type'.\n",
      "  np_resource = np.dtype([(\"resource\", np.ubyte, 1)])\n"
     ]
    }
   ],
   "source": [
    "import numpy as np\n",
    "import pandas as pd\n",
    "import xarray as xr\n",
    "import matplotlib.pyplot as plt\n",
    "import xesmf as xe\n",
    "\n",
    "from mlprecip_utils import *\n",
    "from mlprecip_datasets import *\n",
    "import mlprecip_datasets"
   ]
  },
  {
   "cell_type": "code",
   "execution_count": 2,
   "id": "7d52588b",
   "metadata": {},
   "outputs": [],
   "source": [
    "# Define Winter and Summer Months\n",
    "winter=[12,1,2]\n",
    "summer=[6,7,8]\n",
    "\n",
    "# Dates\n",
    "sdate='1979-01-01'\n",
    "edate='2019-08-31'\n",
    "\n",
    "# Define SEUS Region\n",
    "lat_reg=[24.0,36.0]\n",
    "lon_reg=[269.0,283.0]"
   ]
  },
  {
   "cell_type": "markdown",
   "id": "c33b7b9b",
   "metadata": {},
   "source": [
    "### Get Precip Target"
   ]
  },
  {
   "cell_type": "markdown",
   "id": "2957cf6c-1fc4-4663-81f0-7097dcf7e6f0",
   "metadata": {},
   "source": [
    "#files='/shared/ccsm4/khuang/obs/era-interim/era-interim.daily.precip.*.nc'\n",
    "#dataset='era-interim-precip'\n",
    "#ds=xr.open_mfdataset(files,combine='by_coords')\n",
    "\n",
    "files='/shared/ccsm4/kpegion/mlso/era5_precip_daily.1979-01-01.2020-12-31.nc'\n",
    "dataset='era5-precip'\n",
    "ds=xr.open_mfdataset(files)"
   ]
  },
  {
   "cell_type": "markdown",
   "id": "8feeea74-27d8-464b-9e9c-0af2e091d3d9",
   "metadata": {},
   "source": [
    "ds_seus=ds.rename({'latitude':'lat',\n",
    "                   'longitude':'lon'}).sel(lat=slice(lat_reg[0]-5,lat_reg[1]+5),\n",
    "                                           lon=slice(lon_reg[0]-5,lon_reg[1]+5)).compute()\n",
    "ds_seus"
   ]
  },
  {
   "cell_type": "markdown",
   "id": "c62a419b-368d-4494-ad76-24c4ac1db796",
   "metadata": {},
   "source": [
    "ds.close()"
   ]
  },
  {
   "cell_type": "markdown",
   "id": "bd98f107-2a0f-4970-9486-b95145ec2780",
   "metadata": {},
   "source": [
    "#ds_seus=ds_seus.chunk({'lat':10,'lon':10,'time':1000})\n",
    "ds_climo=daily_climo(ds_seus['precip'],'precip')['precip'].chunk({'dayofyear':366,'lat':78,'lon':86}) "
   ]
  },
  {
   "cell_type": "markdown",
   "id": "fe639892-8695-46be-8721-39700b38e514",
   "metadata": {},
   "source": [
    "ds_climo.compute()"
   ]
  },
  {
   "cell_type": "markdown",
   "id": "e734fb23-8412-4019-a36c-09efaa202b9f",
   "metadata": {},
   "source": [
    "ds_climo"
   ]
  },
  {
   "cell_type": "markdown",
   "id": "19827861-e613-455d-8a71-12c16ca38e05",
   "metadata": {},
   "source": [
    "ds_anoms=(ds_seus['precip'].groupby('time.dayofyear')-ds_climo).compute()"
   ]
  },
  {
   "cell_type": "markdown",
   "id": "39f59a2f",
   "metadata": {},
   "source": [
    "del ds_climo, ds"
   ]
  },
  {
   "cell_type": "markdown",
   "id": "68228416",
   "metadata": {},
   "source": [
    "ds.close()"
   ]
  },
  {
   "cell_type": "code",
   "execution_count": 3,
   "id": "d4992b58",
   "metadata": {},
   "outputs": [],
   "source": [
    "#del ds_climo, ds"
   ]
  },
  {
   "cell_type": "markdown",
   "id": "79856e84-5198-4a01-8fc3-052d9dbed656",
   "metadata": {},
   "source": [
    "ds_anoms"
   ]
  },
  {
   "cell_type": "markdown",
   "id": "fa8bccc5-e5d1-419d-b30d-daea99f4a646",
   "metadata": {},
   "source": [
    "ds_anoms=ds_anoms.chunk({'lon':86,'lat':78})\n",
    "ds_anoms"
   ]
  },
  {
   "cell_type": "markdown",
   "id": "585c05f2",
   "metadata": {},
   "source": [
    "new_lon=np.arange(0,360,5)\n",
    "new_lat=np.arange(-90,92,5)\n",
    "\n",
    "ds_out = xr.Dataset({'lat': (['lat'], new_lat),\n",
    "                     'lon': (['lon'], new_lon)}).sel(lon=slice(ds_anoms['lon'][0],ds_anoms['lon'][-1]),\n",
    "                                                     lat=slice(ds_anoms['lat'][0],ds_anoms['lat'][-1]))\n",
    "print(ds_out)\n",
    "#regridder = xe.Regridder(ds_anoms,ds_out,'bilinear',periodic=True)\n",
    "#ds_anoms=regridder(ds_anoms)"
   ]
  },
  {
   "cell_type": "markdown",
   "id": "c329cd6b-820f-4287-bbf7-25fc98fa236b",
   "metadata": {},
   "source": [
    "ds_out"
   ]
  },
  {
   "cell_type": "markdown",
   "id": "917ff945",
   "metadata": {},
   "source": [
    "regridder = xe.Regridder(ds_anoms,ds_out,'bilinear',periodic=True)\n",
    "ds_anoms=regridder(ds_anoms)"
   ]
  },
  {
   "cell_type": "markdown",
   "id": "793beaa2",
   "metadata": {},
   "source": [
    "ds_anoms"
   ]
  },
  {
   "cell_type": "code",
   "execution_count": 4,
   "id": "3be0f541-1395-482a-bc99-42119b22eb4b",
   "metadata": {},
   "outputs": [
    {
     "name": "stdout",
     "output_type": "stream",
     "text": [
      "Winter\n",
      "Summer\n"
     ]
    }
   ],
   "source": [
    "indices_dict=init_predictors_dict()\n",
    "\n",
    "seas_list=[]\n",
    "\n",
    "# Loop over seasons\n",
    "for seas,slabel,seas_abbrv in zip([winter,summer],['Winter','Summer'],['DJF','JJA']):\n",
    "    \n",
    "    print(slabel)\n",
    "        \n",
    "    features_list=[]\n",
    "    \n",
    "    # Loop over all indices\n",
    "    for i,f in enumerate(indices_dict):\n",
    "        \n",
    "        # Check if this predictor is valid for this season\n",
    "        if (seas_abbrv in f['seas']):\n",
    "            \n",
    "            # Read the Indices\n",
    "            if (f['ptype']=='index' and f['freq']=='mon'):\n",
    "                ds=getattr(mlprecip_datasets,f['readfunc'])(f['file'],f['name'],sdate,edate)\n",
    "                # Linearly interpolate monthly indices to daily\n",
    "                ds=ds.resample(time='1D').interpolate(\"linear\").sel(time=slice(sdate,edate))\n",
    "            elif (f['name']=='RMM_amp'):\n",
    "                _,ds=getattr(mlprecip_datasets,f['readfunc'])(f['file'],sdate,edate)\n",
    "            elif (f['name']=='RMM_phase'):\n",
    "                ds,_=getattr(mlprecip_datasets,f['readfunc'])(f['file'],sdate,edate)\n",
    "            elif (f['name']=='pnaregimes'): \n",
    "                ds=getattr(mlprecip_datasets,f['readfunc'])(f['file'],seas_abbrv,sdate,edate)\n",
    "            elif (f['name']=='nash_amp'):\n",
    "                _,ds=getattr(mlprecip_datasets,f['readfunc'])(f['file'],sdate,edate)\n",
    "            elif (f['name']=='nash_phase'):\n",
    "                ds,_=getattr(mlprecip_datasets,f['readfunc'])(f['file'],sdate,edate)\n",
    "            elif (f['name']=='z500_local'):\n",
    "                ds=getattr(mlprecip_datasets,f['readfunc'])(f['file'],lat_reg,lon_reg,sdate,edate)\n",
    "            else:\n",
    "                ds=getattr(mlprecip_datasets,f['readfunc'])(f['file'],sdate,edate)\n",
    "        \n",
    "            # Detrend and standardize indices that are not categorical\n",
    "            if (f['ptype']=='index'):\n",
    "                v=f['name']\n",
    "                ds[v]=(ds[v]-ds[v].mean(dim='time'))/ds[v].std(dim='time')\n",
    "\n",
    "            # Select season from predictor index and target index\n",
    "            #ds_i=ds.sel(time=ds['time.month'].isin(seas))        \n",
    "        \n",
    "        # Append this predictor index to list of all predictors\n",
    "        features_list.append(ds)\n",
    "            \n",
    "    ds_f=xr.merge(features_list)\n",
    "    seas_list.append(ds_f)\n",
    "\n",
    "ds_features=xr.combine_by_coords(seas_list)\n",
    "ds_features=ds_features.sortby('time')"
   ]
  },
  {
   "cell_type": "markdown",
   "id": "6a616926",
   "metadata": {},
   "source": [
    "ds_features"
   ]
  },
  {
   "cell_type": "code",
   "execution_count": 5,
   "id": "fda7280d",
   "metadata": {},
   "outputs": [],
   "source": [
    "# Features\n",
    "ds_features_tval=ds_features.sel(time=slice('1979-01-01','2016-12-31'))\n",
    "ds_features_test=ds_features.sel(time=slice('2017-01-01','2019-09-01'))\n",
    "\n",
    "# Target\n",
    "#weights=np.cos(np.deg2rad(ds_anoms['lat']))\n",
    "#ds_anoms=ds_anoms*weights\n",
    "#ds_anoms_tval=ds_anoms.sel(time=slice('1979-01-01','2016-12-31'))\n",
    "#ds_target_tval=ds_anoms_tval.sel(lat=slice(lat_reg[0],lat_reg[1]),\n",
    "#                       lon=slice(lon_reg[0],lon_reg[1])).mean(dim=['lat','lon'],skipna=True)\n",
    "#ds_target_tval=ds_anoms_tval.sel(lat=slice(lat_reg[0],lat_reg[1]),\n",
    "#                       lon=slice(lon_reg[0],lon_reg[1])).mean(dim=['lat','lon'])\n",
    "#ds_target_tval=ds_anoms_tval.sel(lat=slice(lat_reg[0],lat_reg[1]),\n",
    "#                       lon=slice(lon_reg[0],lon_reg[1]))\n",
    "#ds_target_tval=ds_target_tval.chunk({'lat':5,'lon':5,'time':1}).mean(dim=['lat','lon'])\n",
    "\n",
    "#ds_anoms_test=ds_anoms.sel(time=slice('2017-01-01','2019-09-01'))\n",
    "#ds_target_test=ds_anoms_test.sel(lat=slice(lat_reg[0],lat_reg[1]),\n",
    "#                       lon=slice(lon_reg[0],lon_reg[1])).mean(dim=['lat','lon'],skipna=True)\n"
   ]
  },
  {
   "cell_type": "markdown",
   "id": "0e91ab67-b705-4167-ac98-cc942f010eff",
   "metadata": {},
   "source": [
    "del ds_anoms, ds_anoms_tval, ds_anoms_test"
   ]
  },
  {
   "cell_type": "markdown",
   "id": "942a5eae-a70f-411a-a7ed-00f438bdc09c",
   "metadata": {},
   "source": [
    "ds_target_tval"
   ]
  },
  {
   "cell_type": "markdown",
   "id": "c9c3bc05",
   "metadata": {},
   "source": [
    "### Write to fnn and lr data directory"
   ]
  },
  {
   "cell_type": "code",
   "execution_count": 6,
   "id": "2311b907",
   "metadata": {},
   "outputs": [],
   "source": [
    "#ds_features_tval.to_netcdf('../data/fnn/features_trainval.nc')\n",
    "#ds_features_test.to_netcdf('../data/fnn/features_test.nc')\n",
    "#ds_target_tval.to_dataset(name='precip').to_netcdf('../data/fnn/target_'+dataset+'_trainval.nc')\n",
    "#ds_target_test.to_dataset(name='precip').to_netcdf('../data/fnn/target_'+dataset+'_test.nc')"
   ]
  },
  {
   "cell_type": "code",
   "execution_count": null,
   "id": "297adfc0",
   "metadata": {},
   "outputs": [],
   "source": []
  }
 ],
 "metadata": {
  "kernelspec": {
   "display_name": "Python (ml-precip)",
   "language": "python",
   "name": "ml-precip"
  },
  "language_info": {
   "codemirror_mode": {
    "name": "ipython",
    "version": 3
   },
   "file_extension": ".py",
   "mimetype": "text/x-python",
   "name": "python",
   "nbconvert_exporter": "python",
   "pygments_lexer": "ipython3",
   "version": "3.7.10"
  }
 },
 "nbformat": 4,
 "nbformat_minor": 5
}
